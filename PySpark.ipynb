{
  "nbformat": 4,
  "nbformat_minor": 0,
  "metadata": {
    "colab": {
      "provenance": [],
      "include_colab_link": true
    },
    "kernelspec": {
      "name": "python3",
      "display_name": "Python 3"
    },
    "language_info": {
      "name": "python"
    }
  },
  "cells": [
    {
      "cell_type": "markdown",
      "metadata": {
        "id": "view-in-github",
        "colab_type": "text"
      },
      "source": [
        "<a href=\"https://colab.research.google.com/github/WellingtonLandim/wellingtonlandim.github.io/blob/main/PySpark.ipynb\" target=\"_parent\"><img src=\"https://colab.research.google.com/assets/colab-badge.svg\" alt=\"Open In Colab\"/></a>"
      ]
    },
    {
      "cell_type": "code",
      "execution_count": null,
      "metadata": {
        "colab": {
          "base_uri": "https://localhost:8080/"
        },
        "id": "WI6FDLTWOkoq",
        "outputId": "1aaa2de6-864f-4699-e909-acc9bd8fbd91"
      },
      "outputs": [
        {
          "output_type": "stream",
          "name": "stdout",
          "text": [
            "Collecting pyspark\n",
            "  Downloading pyspark-3.5.0.tar.gz (316.9 MB)\n",
            "\u001b[2K     \u001b[90m━━━━━━━━━━━━━━━━━━━━━━━━━━━━━━━━━━━━━━━━\u001b[0m \u001b[32m316.9/316.9 MB\u001b[0m \u001b[31m1.3 MB/s\u001b[0m eta \u001b[36m0:00:00\u001b[0m\n",
            "\u001b[?25h  Preparing metadata (setup.py) ... \u001b[?25l\u001b[?25hdone\n",
            "Requirement already satisfied: py4j==0.10.9.7 in /usr/local/lib/python3.10/dist-packages (from pyspark) (0.10.9.7)\n",
            "Building wheels for collected packages: pyspark\n",
            "  Building wheel for pyspark (setup.py) ... \u001b[?25l\u001b[?25hdone\n",
            "  Created wheel for pyspark: filename=pyspark-3.5.0-py2.py3-none-any.whl size=317425345 sha256=e275ba3dc4f85b717c2cee313e937d859ca73438818eae1d263dbbe897871e0b\n",
            "  Stored in directory: /root/.cache/pip/wheels/41/4e/10/c2cf2467f71c678cfc8a6b9ac9241e5e44a01940da8fbb17fc\n",
            "Successfully built pyspark\n",
            "Installing collected packages: pyspark\n",
            "Successfully installed pyspark-3.5.0\n"
          ]
        }
      ],
      "source": [
        "!pip install pyspark"
      ]
    },
    {
      "cell_type": "code",
      "source": [
        "from pyspark.sql import SparkSession\n",
        "from pyspark.sql import SQLContext\n",
        "from pyspark.sql.functions import *\n",
        "from pyspark.sql.types import IntegerType, DoubleType"
      ],
      "metadata": {
        "id": "o33S8brKOoCd"
      },
      "execution_count": 1,
      "outputs": []
    },
    {
      "cell_type": "code",
      "source": [
        "spark = SparkSession.builder.master('local[*]').getOrCreate()"
      ],
      "metadata": {
        "id": "opuLBYn-O5Vs"
      },
      "execution_count": 2,
      "outputs": []
    },
    {
      "cell_type": "code",
      "source": [
        "from google.colab import drive\n",
        "drive.mount('/content/drive')"
      ],
      "metadata": {
        "colab": {
          "base_uri": "https://localhost:8080/"
        },
        "id": "7ZaGyZ77O7iz",
        "outputId": "55e78ec9-4e9b-407b-fe9b-7545a7cecb3e"
      },
      "execution_count": 3,
      "outputs": [
        {
          "output_type": "stream",
          "name": "stdout",
          "text": [
            "Mounted at /content/drive\n"
          ]
        }
      ]
    },
    {
      "cell_type": "code",
      "source": [
        "! ls /content/drive/'My Drive'/'00 - XPE'/'Modulo 2'/'Desafio'"
      ],
      "metadata": {
        "colab": {
          "base_uri": "https://localhost:8080/"
        },
        "id": "oqVbEDXNO9Oc",
        "outputId": "9f30b15c-6820-42e5-9bf6-f57040790a6b"
      },
      "execution_count": 4,
      "outputs": [
        {
          "output_type": "stream",
          "name": "stdout",
          "text": [
            "'Desafio Módulo 2 (2).ipynb'\n",
            " Desafio_Módulo_2_corrigido.ipynb\n",
            "'Enunciado do Desafio - Módulo 2 - Bootcamp Cientista de Dados.pdf-1.pdf'\n",
            " stroke_data.csv\n"
          ]
        }
      ]
    },
    {
      "cell_type": "code",
      "source": [
        "sqlc = SQLContext(spark.sparkContext)"
      ],
      "metadata": {
        "colab": {
          "base_uri": "https://localhost:8080/"
        },
        "id": "ErkJCJhgPIfi",
        "outputId": "015a7002-a03c-4461-f0a7-ebe8c0cefb2e"
      },
      "execution_count": 5,
      "outputs": [
        {
          "output_type": "stream",
          "name": "stderr",
          "text": [
            "/usr/local/lib/python3.10/dist-packages/pyspark/sql/context.py:113: FutureWarning: Deprecated in 3.0.0. Use SparkSession.builder.getOrCreate() instead.\n",
            "  warnings.warn(\n"
          ]
        }
      ]
    },
    {
      "cell_type": "code",
      "source": [
        "stroke_df = sqlc.read.csv(\"/content/drive/My Drive/00 - XPE/Modulo 2/Desafio/stroke_data.csv\", header='True', inferSchema='True')"
      ],
      "metadata": {
        "id": "ts3YmHebPS7H"
      },
      "execution_count": 6,
      "outputs": []
    },
    {
      "cell_type": "code",
      "source": [
        "stroke_df.show()"
      ],
      "metadata": {
        "colab": {
          "base_uri": "https://localhost:8080/"
        },
        "id": "ANKcI0nAPXip",
        "outputId": "51e81f55-5df5-4708-cdce-81a40cec2b86"
      },
      "execution_count": 7,
      "outputs": [
        {
          "output_type": "stream",
          "name": "stdout",
          "text": [
            "+---+------+----+------------+-------------+------------+-------------+--------------+-----------------+-----+---------------+------+\n",
            "|  0|gender| age|hypertension|heart_disease|ever_married|    work_type|Residence_type|avg_glucose_level|  bmi| smoking_status|stroke|\n",
            "+---+------+----+------------+-------------+------------+-------------+--------------+-----------------+-----+---------------+------+\n",
            "|  1|Female|18.0|           0|            0|          No|      Private|         Urban|            94.19|12.12|         smokes|     1|\n",
            "|  2|  Male|58.0|           1|            0|         Yes|      Private|         Rural|           154.24| 33.7|   never_smoked|     0|\n",
            "|  3|Female|36.0|           0|            0|         Yes|     Govt_job|         Urban|            72.63| 24.7|         smokes|     0|\n",
            "|  4|Female|62.0|           0|            0|         Yes|Self-employed|         Rural|            85.52| 31.2|formerly smoked|     0|\n",
            "|  5|Female|82.0|           0|            0|         Yes|      Private|         Rural|            59.32| 33.2|         smokes|     1|\n",
            "|  6|Female|82.0|           0|            0|          No|     Govt_job|         Urban|            234.5| 24.0|formerly smoked|     0|\n",
            "|  7|Female|33.0|           0|            0|         Yes|Self-employed|         Urban|           193.42| 29.9|         smokes|     0|\n",
            "|  8|Female|37.0|           0|            0|         Yes|      Private|         Rural|            156.7| 36.9|         smokes|     1|\n",
            "|  9|Female|41.0|           0|            0|         Yes|     Govt_job|         Rural|            64.06| 33.8|         smokes|     1|\n",
            "| 10|Female|70.0|           0|            0|         Yes|Self-employed|         Rural|            76.34| 24.4|formerly smoked|     1|\n",
            "| 11|Female|25.0|           0|            0|          No|      Private|         Urban|            91.15| 28.7|         smokes|     1|\n",
            "| 12|Female|43.0|           1|            0|          No|Self-employed|         Rural|            60.12| 34.2|formerly smoked|     0|\n",
            "| 13|  Male|72.0|           0|            1|         Yes|      Private|         Rural|           235.22| 40.3|formerly smoked|     1|\n",
            "| 14|Female|20.0|           0|            0|          No|      Private|         Rural|           106.47| 33.7|         smokes|     1|\n",
            "| 15|  Male|20.0|           0|            0|          No|      Private|         Urban|           104.78| 20.3|         smokes|     1|\n",
            "| 16|  Male|41.0|           0|            0|         Yes|Self-employed|         Urban|            159.3| 34.6|         smokes|     1|\n",
            "| 17|Female|23.0|           0|            0|          No|      Private|         Urban|           116.95| 23.8|         smokes|     1|\n",
            "| 18|  Male|22.0|           0|            0|          No|Self-employed|         Rural|            72.05| 31.9|         smokes|     1|\n",
            "| 19|  Male|69.0|           0|            0|         Yes|      Private|         Rural|            64.06| 35.1|formerly smoked|     0|\n",
            "| 20|Female|44.0|           0|            0|         Yes|Self-employed|         Rural|           135.03| 36.1|         smokes|     1|\n",
            "+---+------+----+------------+-------------+------------+-------------+--------------+-----------------+-----+---------------+------+\n",
            "only showing top 20 rows\n",
            "\n"
          ]
        }
      ]
    },
    {
      "cell_type": "code",
      "source": [
        "# Pergunta 1: Quantos registros existem no arquivo?\n",
        "totalRegistros = lit(stroke_df.count())\n",
        "totalRegistros\n",
        "# Resposta: 67135"
      ],
      "metadata": {
        "colab": {
          "base_uri": "https://localhost:8080/"
        },
        "id": "OTUgf2PKQNea",
        "outputId": "5814c965-a3b6-411c-b0f3-4fa83f4adf27"
      },
      "execution_count": 8,
      "outputs": [
        {
          "output_type": "execute_result",
          "data": {
            "text/plain": [
              "Column<'67135'>"
            ]
          },
          "metadata": {},
          "execution_count": 8
        }
      ]
    },
    {
      "cell_type": "code",
      "source": [
        "# Pergunta 2: Quantas colunas existem no arquivo? Quantas são numéricas? Ao ler o arquivo com spark.read.csv, habilite inferSchema=True. Use a função printSchema() da API de Dataframes.\n",
        "# Resposta: 12 e 7\n",
        "stroke_df.printSchema()"
      ],
      "metadata": {
        "colab": {
          "base_uri": "https://localhost:8080/"
        },
        "id": "sKzkYYsYRA6i",
        "outputId": "d5591755-fb30-44a0-b3c8-d2decc480972"
      },
      "execution_count": 9,
      "outputs": [
        {
          "output_type": "stream",
          "name": "stdout",
          "text": [
            "root\n",
            " |-- 0: integer (nullable = true)\n",
            " |-- gender: string (nullable = true)\n",
            " |-- age: double (nullable = true)\n",
            " |-- hypertension: integer (nullable = true)\n",
            " |-- heart_disease: integer (nullable = true)\n",
            " |-- ever_married: string (nullable = true)\n",
            " |-- work_type: string (nullable = true)\n",
            " |-- Residence_type: string (nullable = true)\n",
            " |-- avg_glucose_level: double (nullable = true)\n",
            " |-- bmi: double (nullable = true)\n",
            " |-- smoking_status: string (nullable = true)\n",
            " |-- stroke: integer (nullable = true)\n",
            "\n"
          ]
        }
      ]
    },
    {
      "cell_type": "code",
      "source": [
        "# Total de Colunas\n",
        "totalColunas = lit(len(stroke_df.columns))\n",
        "totalColunas"
      ],
      "metadata": {
        "colab": {
          "base_uri": "https://localhost:8080/"
        },
        "id": "-e_rq4jrRR0b",
        "outputId": "90a97194-6568-40b3-f536-c016eab9c25a"
      },
      "execution_count": 10,
      "outputs": [
        {
          "output_type": "execute_result",
          "data": {
            "text/plain": [
              "Column<'12'>"
            ]
          },
          "metadata": {},
          "execution_count": 10
        }
      ]
    },
    {
      "cell_type": "code",
      "source": [
        "# Total de Colunas numéricas\n",
        "totalColunasNumericas = 0\n",
        "for coluna in stroke_df.schema:\n",
        "    if isinstance(coluna.dataType, IntegerType) or isinstance(coluna.dataType, DoubleType):\n",
        "        totalColunasNumericas += 1\n",
        "\n",
        "print(\"Número de colunas numéricas:\", totalColunasNumericas)"
      ],
      "metadata": {
        "colab": {
          "base_uri": "https://localhost:8080/"
        },
        "id": "bYJiQRr0RYWF",
        "outputId": "8601bb6e-8f52-440c-d9e9-81f295775c9d"
      },
      "execution_count": 11,
      "outputs": [
        {
          "output_type": "stream",
          "name": "stdout",
          "text": [
            "Número de colunas numéricas: 7\n"
          ]
        }
      ]
    },
    {
      "cell_type": "code",
      "source": [
        "# Pergunta 3: No conjunto de dados, quantos pacientes sofreram e não sofreram derrame (stroke), respectivamente?\n",
        "# Resposta: 40287 e 26848\n",
        "tipoPaciente = stroke_df.groupBy(\"stroke\").count()\n",
        "tipoPaciente.show()"
      ],
      "metadata": {
        "colab": {
          "base_uri": "https://localhost:8080/"
        },
        "id": "MxnqTvoJTy9_",
        "outputId": "e4b79e08-818d-42a4-b5d5-241019a3b982"
      },
      "execution_count": 12,
      "outputs": [
        {
          "output_type": "stream",
          "name": "stdout",
          "text": [
            "+------+-----+\n",
            "|stroke|count|\n",
            "+------+-----+\n",
            "|     1|40287|\n",
            "|     0|26848|\n",
            "+------+-----+\n",
            "\n"
          ]
        }
      ]
    },
    {
      "cell_type": "code",
      "source": [
        "# Pergunta 4: A partir do dataframe, crie uma tabela temporária usando df.createOrReplaceTempView('table') e a seguir use spark.sql para escrever uma consulta SQL que obtenha quantos pacientes tiveram derrame por tipo de trabalho (work_type). Quantos pacientes sofreram derrame e trabalhavam respectivamente, no setor privado, de forma independente, no governo e quantas são crianças?\n",
        "# Resposta: 23711, 1080, 5164, 520\n",
        "# Tabela Temporária\n",
        "stroke_df.createOrReplaceTempView(\"stroke\")\n"
      ],
      "metadata": {
        "id": "RPf-68mrUFO2"
      },
      "execution_count": 13,
      "outputs": []
    },
    {
      "cell_type": "code",
      "source": [
        "# Pacientes com derrame (stroke=1) por tipo de trabalho\n",
        "sqlDF = spark.sql(\"SELECT work_type, COUNT(*) FROM stroke WHERE stroke = 1 GROUP BY work_type \")\n",
        "sqlDF.show()\n",
        "# Setor Privado = 23711\n",
        "# Independente = 1080\n",
        "# Governo = 5164\n",
        "# Crianças = 520"
      ],
      "metadata": {
        "colab": {
          "base_uri": "https://localhost:8080/"
        },
        "id": "WMZm_AurV-ky",
        "outputId": "ca9f23a0-a776-48b0-bf71-5402aa7d4330"
      },
      "execution_count": 14,
      "outputs": [
        {
          "output_type": "stream",
          "name": "stdout",
          "text": [
            "+-------------+--------+\n",
            "|    work_type|count(1)|\n",
            "+-------------+--------+\n",
            "| Never_worked|      85|\n",
            "|Self-employed|   10807|\n",
            "|      Private|   23711|\n",
            "|     children|     520|\n",
            "|     Govt_job|    5164|\n",
            "+-------------+--------+\n",
            "\n"
          ]
        }
      ]
    },
    {
      "cell_type": "code",
      "source": [
        "# Pergunta 5: Escreva uma consulta com spark.sql para determinar a proporção, por gênero, de participantes do estudo. A maioria dos participantes é:\n",
        "# Resposta 5: feminina\n",
        "sqlGenero = spark.sql(\"SELECT gender, COUNT(*) as total FROM stroke GROUP BY gender\")\n",
        "sqlGenero.show()"
      ],
      "metadata": {
        "colab": {
          "base_uri": "https://localhost:8080/"
        },
        "id": "pZC2JdhOWFXb",
        "outputId": "6c3506f3-471c-47d9-8238-a6b52fd6e250"
      },
      "execution_count": 15,
      "outputs": [
        {
          "output_type": "stream",
          "name": "stdout",
          "text": [
            "+------+-----+\n",
            "|gender|total|\n",
            "+------+-----+\n",
            "|Female|39530|\n",
            "| Other|   11|\n",
            "|  Male|27594|\n",
            "+------+-----+\n",
            "\n"
          ]
        }
      ]
    },
    {
      "cell_type": "code",
      "source": [
        "# Pergunta 6: Escreva uma consulta com spark.sql para determinar quem tem mais probabilidade de sofrer derrame: hipertensos ou não-hipertensos. Você pode escrever uma consulta para cada grupo. A partir das probabilidades que você obteve, você conclui que:\n",
        "# Resposta 6: A hipertensão, neste conjunto de dados, aumenta a probabilidade de derrame.\n",
        "# Teve derrame\n",
        "sqlHiperStroke = spark.sql(\"SELECT hypertension, COUNT(*) as totalComDerrame FROM stroke WHERE stroke= 1 GROUP BY hypertension\")\n",
        "sqlHiperStroke.show()"
      ],
      "metadata": {
        "colab": {
          "base_uri": "https://localhost:8080/"
        },
        "id": "-hiBd0igXbEz",
        "outputId": "f2562774-52d6-4081-9265-c4ce5ebb563d"
      },
      "execution_count": 16,
      "outputs": [
        {
          "output_type": "stream",
          "name": "stdout",
          "text": [
            "+------------+---------------+\n",
            "|hypertension|totalComDerrame|\n",
            "+------------+---------------+\n",
            "|           1|           8817|\n",
            "|           0|          31470|\n",
            "+------------+---------------+\n",
            "\n"
          ]
        }
      ]
    },
    {
      "cell_type": "code",
      "source": [
        "# Não teve derrame\n",
        "sqlHiperNotStroke = spark.sql(\"SELECT hypertension, COUNT(*) as totalSemDerrame FROM stroke WHERE stroke= 0 GROUP BY hypertension\")\n",
        "sqlHiperNotStroke.show()"
      ],
      "metadata": {
        "colab": {
          "base_uri": "https://localhost:8080/"
        },
        "id": "kCxSPmexXyiu",
        "outputId": "654a1aaa-5850-47c7-8c99-e644c6ed2c4c"
      },
      "execution_count": 17,
      "outputs": [
        {
          "output_type": "stream",
          "name": "stdout",
          "text": [
            "+------------+---------------+\n",
            "|hypertension|totalSemDerrame|\n",
            "+------------+---------------+\n",
            "|           1|           2200|\n",
            "|           0|          24648|\n",
            "+------------+---------------+\n",
            "\n"
          ]
        }
      ]
    },
    {
      "cell_type": "code",
      "source": [
        "# Tabela de Contigência\n",
        "tabelaContingencia = sqlHiperStroke.join(sqlHiperNotStroke, \"hypertension\", \"outer\")\n",
        "tabelaContingencia.show()"
      ],
      "metadata": {
        "colab": {
          "base_uri": "https://localhost:8080/"
        },
        "id": "kC2dwZekYEu_",
        "outputId": "dd6992bf-c78d-4689-b141-345d7e4a7e15"
      },
      "execution_count": 18,
      "outputs": [
        {
          "output_type": "stream",
          "name": "stdout",
          "text": [
            "+------------+---------------+---------------+\n",
            "|hypertension|totalComDerrame|totalSemDerrame|\n",
            "+------------+---------------+---------------+\n",
            "|           0|          31470|          24648|\n",
            "|           1|           8817|           2200|\n",
            "+------------+---------------+---------------+\n",
            "\n"
          ]
        }
      ]
    },
    {
      "cell_type": "code",
      "source": [
        "# Comparar as probabilidades\n",
        "probHipertenso = tabelaContingencia.collect()[1][\"totalComDerrame\"] / (tabelaContingencia.collect()[1][\"totalComDerrame\"]+tabelaContingencia.collect()[1][\"totalSemDerrame\"])\n",
        "probNaoHipertenso = tabelaContingencia.collect()[0][\"totalComDerrame\"] / (tabelaContingencia.collect()[0][\"totalComDerrame\"]+tabelaContingencia.collect()[0][\"totalSemDerrame\"])\n",
        "\n",
        "print(\"Probabilidade de derrame para hipertensos:\", probHipertenso)\n",
        "print(\"Probabilidade de derrame para não-hipertensos:\", probNaoHipertenso)\n",
        "\n",
        "\n",
        "# Conclusão\n",
        "# A hipertensão, neste conjunto de dados, aumenta a probabilidade de derrame.\n"
      ],
      "metadata": {
        "colab": {
          "base_uri": "https://localhost:8080/"
        },
        "id": "3e0AKTCtbAIv",
        "outputId": "3bd20ce2-290b-4e33-c413-d557a730b5b2"
      },
      "execution_count": 19,
      "outputs": [
        {
          "output_type": "stream",
          "name": "stdout",
          "text": [
            "Probabilidade de derrame para hipertensos: 0.8003086139602432\n",
            "Probabilidade de derrame para não-hipertensos: 0.5607826365871913\n"
          ]
        }
      ]
    },
    {
      "cell_type": "code",
      "source": [
        "# Pergunta 7: Escreva uma consulta com spark.sql que determine o número de pessoas que sofreram derrame por idade. Com qual idade o maior número de pessoas do conjunto de dados sofreu derrame?\n",
        "# Resposta 7: 79\n",
        "tabelaIdade = spark.sql(\"SELECT age, COUNT(*) FROM stroke GROUP BY age ORDER BY COUNT(*) DESC\")\n",
        "tabelaIdade.show()"
      ],
      "metadata": {
        "colab": {
          "base_uri": "https://localhost:8080/"
        },
        "id": "y8QpI79TfP7A",
        "outputId": "a0d93e5e-bf72-4c82-edef-6fb657fc3798"
      },
      "execution_count": 20,
      "outputs": [
        {
          "output_type": "stream",
          "name": "stdout",
          "text": [
            "+----+--------+\n",
            "| age|count(1)|\n",
            "+----+--------+\n",
            "|79.0|    3258|\n",
            "|78.0|    2672|\n",
            "|80.0|    2141|\n",
            "|81.0|    2005|\n",
            "|82.0|    1657|\n",
            "|63.0|    1294|\n",
            "|66.0|    1195|\n",
            "|77.0|    1190|\n",
            "|74.0|    1184|\n",
            "|57.0|    1160|\n",
            "|70.0|    1151|\n",
            "|76.0|    1088|\n",
            "|67.0|    1070|\n",
            "|51.0|    1067|\n",
            "|65.0|    1046|\n",
            "|75.0|    1015|\n",
            "|52.0|    1003|\n",
            "|58.0|     999|\n",
            "|59.0|     994|\n",
            "|61.0|     988|\n",
            "+----+--------+\n",
            "only showing top 20 rows\n",
            "\n"
          ]
        }
      ]
    },
    {
      "cell_type": "code",
      "source": [
        "# Pergunta 8: Usando a API de dataframes, determine quantas pessoas sofreram derrames após os 50 anos.\n",
        "# Resposta 8: 28938\n",
        "stroke_df.filter((stroke_df[\"age\"]>50) & (stroke_df[\"stroke\"]==1)).count()\n"
      ],
      "metadata": {
        "colab": {
          "base_uri": "https://localhost:8080/"
        },
        "id": "uLpKV8L-f4bC",
        "outputId": "f85af31d-f419-4709-9e95-03c97a7fe035"
      },
      "execution_count": 21,
      "outputs": [
        {
          "output_type": "execute_result",
          "data": {
            "text/plain": [
              "28938"
            ]
          },
          "metadata": {},
          "execution_count": 21
        }
      ]
    },
    {
      "cell_type": "code",
      "source": [
        "# Pergunta 9: Usando spark.sql, determine qual o nível médio de glicose para pessoas que, respectivamente, sofreram e não sofreram derrame.\n",
        "# Resposta 9: 119 e 103\n",
        "# Sofreram Derrame\n",
        "sqlGlicoseDerrame = spark.sql(\"SELECT AVG(avg_glucose_level) FROM stroke WHERE stroke=1\")\n",
        "sqlGlicoseDerrame.show()"
      ],
      "metadata": {
        "colab": {
          "base_uri": "https://localhost:8080/"
        },
        "id": "DE6bwv7Qgl0g",
        "outputId": "0dc30c68-be28-4e0f-9df0-5057b415eed4"
      },
      "execution_count": 22,
      "outputs": [
        {
          "output_type": "stream",
          "name": "stdout",
          "text": [
            "+----------------------+\n",
            "|avg(avg_glucose_level)|\n",
            "+----------------------+\n",
            "|    119.95307046938272|\n",
            "+----------------------+\n",
            "\n"
          ]
        }
      ]
    },
    {
      "cell_type": "code",
      "source": [
        "# Não Sofreram Derrame\n",
        "sqlGlicoseNaoDerrame = spark.sql(\"SELECT AVG(avg_glucose_level) FROM stroke WHERE stroke=0\")\n",
        "sqlGlicoseNaoDerrame.show()"
      ],
      "metadata": {
        "colab": {
          "base_uri": "https://localhost:8080/"
        },
        "id": "ejWVatX3hhhT",
        "outputId": "8b2b2855-a34e-4925-d823-31b58865dc1d"
      },
      "execution_count": 23,
      "outputs": [
        {
          "output_type": "stream",
          "name": "stdout",
          "text": [
            "+----------------------+\n",
            "|avg(avg_glucose_level)|\n",
            "+----------------------+\n",
            "|    103.60273130214506|\n",
            "+----------------------+\n",
            "\n"
          ]
        }
      ]
    },
    {
      "cell_type": "code",
      "source": [
        "# Pergunta 10: Qual é o BMI (IMC = índice de massa corpórea) médio de quem sofreu e não sofreu derrame?\n",
        "# Resposta 10: 29,94 e 27,99\n",
        "# IMC(bmi) Sofreu derrame\n",
        "sqlIMCDerrame = spark.sql(\"SELECT AVG(bmi) FROM stroke WHERE stroke=1\")\n",
        "sqlIMCDerrame.show()"
      ],
      "metadata": {
        "colab": {
          "base_uri": "https://localhost:8080/"
        },
        "id": "G1GIKo3FhnN2",
        "outputId": "4367c272-f111-474e-cf5f-c89d3705414a"
      },
      "execution_count": 24,
      "outputs": [
        {
          "output_type": "stream",
          "name": "stdout",
          "text": [
            "+------------------+\n",
            "|          avg(bmi)|\n",
            "+------------------+\n",
            "|29.942490629729495|\n",
            "+------------------+\n",
            "\n"
          ]
        }
      ]
    },
    {
      "cell_type": "code",
      "source": [
        "# IMC(bmi) não Sofreu derrame\n",
        "sqlIMCDerrame = spark.sql(\"SELECT AVG(bmi) FROM stroke WHERE stroke=0\")\n",
        "sqlIMCDerrame.show()"
      ],
      "metadata": {
        "colab": {
          "base_uri": "https://localhost:8080/"
        },
        "id": "zzOmW4U4iACS",
        "outputId": "ae207333-d9aa-4b48-93b4-7ed15447148d"
      },
      "execution_count": 25,
      "outputs": [
        {
          "output_type": "stream",
          "name": "stdout",
          "text": [
            "+------------------+\n",
            "|          avg(bmi)|\n",
            "+------------------+\n",
            "|27.989678933253657|\n",
            "+------------------+\n",
            "\n"
          ]
        }
      ]
    },
    {
      "cell_type": "code",
      "source": [
        "# Pergunra 11: Crie um modelo de árvore de decisão que prevê a chance de derrame (stroke) a partir das variáveis contínuas/categóricas:\n",
        "# idade, BMI, hipertensão, doença do coração, nível médio de glicose.\n",
        "# Use o conteúdo da segunda aula interativa para criar e avaliar o modelo.\n",
        "# Resposta 11: Menor que 75%\n",
        "stroke_df.printSchema()"
      ],
      "metadata": {
        "colab": {
          "base_uri": "https://localhost:8080/"
        },
        "id": "M_evP16wiKkv",
        "outputId": "18a8e89e-890b-429a-8309-1fd5d4f67220"
      },
      "execution_count": 26,
      "outputs": [
        {
          "output_type": "stream",
          "name": "stdout",
          "text": [
            "root\n",
            " |-- 0: integer (nullable = true)\n",
            " |-- gender: string (nullable = true)\n",
            " |-- age: double (nullable = true)\n",
            " |-- hypertension: integer (nullable = true)\n",
            " |-- heart_disease: integer (nullable = true)\n",
            " |-- ever_married: string (nullable = true)\n",
            " |-- work_type: string (nullable = true)\n",
            " |-- Residence_type: string (nullable = true)\n",
            " |-- avg_glucose_level: double (nullable = true)\n",
            " |-- bmi: double (nullable = true)\n",
            " |-- smoking_status: string (nullable = true)\n",
            " |-- stroke: integer (nullable = true)\n",
            "\n"
          ]
        }
      ]
    },
    {
      "cell_type": "code",
      "source": [
        "# Bibliotecas para ML\n",
        "from pyspark.ml import Pipeline\n",
        "from pyspark.ml.classification import DecisionTreeClassifier\n",
        "from pyspark.ml.feature import StringIndexer, VectorIndexer, VectorAssembler\n",
        "from pyspark.ml.evaluation import MulticlassClassificationEvaluator"
      ],
      "metadata": {
        "id": "jmATmijz6TrH"
      },
      "execution_count": 27,
      "outputs": []
    },
    {
      "cell_type": "code",
      "source": [
        "# Colunas selecionadas - todas são numericas\n",
        "feature_cols = [\"age\", \"bmi\", \"hypertension\", \"heart_disease\", \"avg_glucose_level\"]\n",
        "assembler = VectorAssembler(inputCols=feature_cols, outputCol=\"features\")\n"
      ],
      "metadata": {
        "id": "5OSbM2dF6oRo"
      },
      "execution_count": 28,
      "outputs": []
    },
    {
      "cell_type": "code",
      "source": [
        "# Instacia o DecissionTreeClassifier\n",
        "dt = DecisionTreeClassifier(labelCol='stroke', featuresCol='features')\n"
      ],
      "metadata": {
        "id": "sbg85gGP8s4X"
      },
      "execution_count": 29,
      "outputs": []
    },
    {
      "cell_type": "code",
      "source": [
        "# Cria o pipeline\n",
        "pipeline = Pipeline(stages=[assembler, dt])"
      ],
      "metadata": {
        "id": "cX4ICmYL9JKt"
      },
      "execution_count": 30,
      "outputs": []
    },
    {
      "cell_type": "code",
      "source": [
        "# Divide os dados em treino e teste\n",
        "(train, test) = stroke_df.randomSplit([0.7, 0.3], seed=42)"
      ],
      "metadata": {
        "id": "AwmyZyhg-PRu"
      },
      "execution_count": 31,
      "outputs": []
    },
    {
      "cell_type": "code",
      "source": [
        "# Treina o modelo\n",
        "model = pipeline.fit(train)"
      ],
      "metadata": {
        "id": "htbglur9-Ywy"
      },
      "execution_count": 32,
      "outputs": []
    },
    {
      "cell_type": "code",
      "source": [
        "# Avalia o modelo com accurácia\n",
        "evaluator = MulticlassClassificationEvaluator(metricName='accuracy', labelCol='stroke')\n",
        "accuracyDadosTeste = evaluator.evaluate(model.transform(test))\n",
        "print(\"Acurácia:\", accuracyDadosTeste)\n",
        "# Resposta: Menor que 75%"
      ],
      "metadata": {
        "colab": {
          "base_uri": "https://localhost:8080/"
        },
        "id": "4f8r31wK-cNU",
        "outputId": "e3f3037b-11d7-45fd-99bc-34caf8e6ac14"
      },
      "execution_count": 33,
      "outputs": [
        {
          "output_type": "stream",
          "name": "stdout",
          "text": [
            "Acurácia: 0.6884394778481012\n"
          ]
        }
      ]
    },
    {
      "cell_type": "code",
      "source": [
        "# Pergunta 12: Adicione ao modelo as variáveis categóricas:\n",
        "# gênero e status de fumante.\n",
        "# Use o conteúdo da aula interativa para lidar com as variáveis categóricas.  A acurácia (qualidade) do modelo aumentou para:\n",
        "# Resposta 12: Acima de 80%\n",
        "feature_cols_cat = ['gender', 'smoking_status']\n"
      ],
      "metadata": {
        "id": "hSLmTBca-2p4"
      },
      "execution_count": 34,
      "outputs": []
    },
    {
      "cell_type": "code",
      "source": [
        "# Analisar os dados\n",
        "# gender\n",
        "gender = stroke_df.groupBy(\"gender\").count()\n",
        "gender.show()"
      ],
      "metadata": {
        "colab": {
          "base_uri": "https://localhost:8080/"
        },
        "id": "OR7qJUes_d5y",
        "outputId": "389ee4a3-7339-420f-dfc2-f95d3f84f70b"
      },
      "execution_count": 35,
      "outputs": [
        {
          "output_type": "stream",
          "name": "stdout",
          "text": [
            "+------+-----+\n",
            "|gender|count|\n",
            "+------+-----+\n",
            "|Female|39530|\n",
            "| Other|   11|\n",
            "|  Male|27594|\n",
            "+------+-----+\n",
            "\n"
          ]
        }
      ]
    },
    {
      "cell_type": "code",
      "source": [
        "# smoking_status\n",
        "smoking_status = stroke_df.groupBy(\"smoking_status\").count()\n",
        "smoking_status.show()"
      ],
      "metadata": {
        "colab": {
          "base_uri": "https://localhost:8080/"
        },
        "id": "VDQ9tfip_mjG",
        "outputId": "cdb16721-b508-4246-9466-84ec46d5bf89"
      },
      "execution_count": 36,
      "outputs": [
        {
          "output_type": "stream",
          "name": "stdout",
          "text": [
            "+---------------+-----+\n",
            "| smoking_status|count|\n",
            "+---------------+-----+\n",
            "|         smokes|35963|\n",
            "|   never_smoked|13292|\n",
            "|formerly smoked|17880|\n",
            "+---------------+-----+\n",
            "\n"
          ]
        }
      ]
    },
    {
      "cell_type": "code",
      "source": [
        "# Transformar colunas\n",
        "from pyspark.ml.feature import StringIndexer, OneHotEncoder\n"
      ],
      "metadata": {
        "id": "znVFe2-G_4Vo"
      },
      "execution_count": 37,
      "outputs": []
    },
    {
      "cell_type": "code",
      "source": [
        "# Lista de colunas categóricas e numéricas\n",
        "categoricalCols = ['gender', 'smoking_status']\n",
        "numericCols = [\"age\", \"bmi\", \"hypertension\", \"heart_disease\", \"avg_glucose_level\"]\n",
        "\n",
        "# Transformar colunas categóricas com StringIndexer\n",
        "indexers = [StringIndexer(inputCol=col, outputCol=col+\"_index\", handleInvalid=\"keep\") for col in categoricalCols]\n",
        "\n",
        "# Codificar colunas indexadas one-hot\n",
        "encoders = [OneHotEncoder(inputCol=col+\"_index\", outputCol=col+\"_OHE\") for col in categoricalCols]\n",
        "\n",
        "# Combina todas as colunas em uma única coluna vetor\n",
        "assemblerInputs = [col + \"_OHE\" for col in categoricalCols] + numericCols\n",
        "vecAssembler = VectorAssembler(inputCols=assemblerInputs, outputCol=\"features\")\n",
        "\n",
        "# Instanciar o DecisionTreeClassifier\n",
        "dt = DecisionTreeClassifier(labelCol='stroke', featuresCol='features')\n",
        "\n",
        "# Criar o pipeline\n",
        "pipeline = Pipeline(stages=indexers + encoders + [vecAssembler, dt])\n",
        "\n",
        "# Dividir os dados em conjunto de treinamento e teste\n",
        "(train, test) = stroke_df.randomSplit([0.7, 0.3])\n",
        "\n",
        "# Treinar o modelo\n",
        "model = pipeline.fit(train)"
      ],
      "metadata": {
        "id": "gpLDh3J0tkh0"
      },
      "execution_count": 38,
      "outputs": []
    },
    {
      "cell_type": "code",
      "source": [
        "# Avalia o modelo com accurácia com todas as colunas\n",
        "evaluator = MulticlassClassificationEvaluator(metricName='accuracy', labelCol='stroke')\n",
        "accuracyDadosTeste = evaluator.evaluate(model.transform(test))\n",
        "print(\"Acurácia:\", accuracyDadosTeste)\n",
        "# Resposta 12: Acima de 80%"
      ],
      "metadata": {
        "colab": {
          "base_uri": "https://localhost:8080/"
        },
        "id": "_Lkh8xW3BiZi",
        "outputId": "609919c4-8fe1-44d6-e353-4ca1271972e4"
      },
      "execution_count": 39,
      "outputs": [
        {
          "output_type": "stream",
          "name": "stdout",
          "text": [
            "Acurácia: 0.8369661702337509\n"
          ]
        }
      ]
    },
    {
      "cell_type": "code",
      "source": [
        "# Pergunta 13: Adicione ao modelo as variáveis categóricas: gênero e status de fumante. Use o conteúdo da aula interativa para lidar com as variáveis categóricas. Qual dessas variáveis é mais importante no modelo de árvore de decisão que você construiu?\n",
        "# Resposta 13:  avg_glucose_level. ERRADO\n",
        "\n",
        "# Obter importâncias das características do modelo treinado\n",
        "feature_importances = model.stages[-1].featureImportances\n",
        "\n",
        "# Criar um dicionário para mapear os nomes das características para suas importâncias\n",
        "feature_importance_dict = dict(zip(numericCols + feature_cols_cat, feature_importances))\n",
        "\n",
        "# Classificar as características com base em suas importâncias e imprimir\n",
        "sorted_features = sorted(feature_importance_dict.items(), key=lambda x: x[1], reverse=True)\n",
        "for feature, importance in sorted_features:\n",
        "    print(f\"Variável: {feature}, Importância: {importance}\")"
      ],
      "metadata": {
        "colab": {
          "base_uri": "https://localhost:8080/"
        },
        "id": "rQiE8GayBq11",
        "outputId": "cdc3ae6f-7582-4a21-cd51-20fc8a93d4dd"
      },
      "execution_count": 40,
      "outputs": [
        {
          "output_type": "stream",
          "name": "stdout",
          "text": [
            "Variável: gender, Importância: 0.7359929060005994\n",
            "Variável: smoking_status, Importância: 0.17224764563488046\n",
            "Variável: heart_disease, Importância: 0.07996401200523502\n",
            "Variável: age, Importância: 0.0\n",
            "Variável: bmi, Importância: 0.0\n",
            "Variável: hypertension, Importância: 0.0\n",
            "Variável: avg_glucose_level, Importância: 0.0\n"
          ]
        }
      ]
    },
    {
      "cell_type": "code",
      "source": [
        "# Pergunta 14: Qual a profundidade da árvore de decisão?\n",
        "# Resposta 14 : depth=5. Entre 2 e 7.\n",
        "# Pergunta 15: Quantos nodos a árvore de decisão possui?\n",
        "# Resposta 15 : numNodes=21. Mais de 5.\n",
        "print(model.stages)"
      ],
      "metadata": {
        "id": "QsNkaNzSC4aK",
        "colab": {
          "base_uri": "https://localhost:8080/"
        },
        "outputId": "5149aaa6-080b-4900-a3a2-e08e9922e92c"
      },
      "execution_count": 41,
      "outputs": [
        {
          "output_type": "stream",
          "name": "stdout",
          "text": [
            "[StringIndexerModel: uid=StringIndexer_8d7a5a0172d6, handleInvalid=keep, StringIndexerModel: uid=StringIndexer_00d3365961db, handleInvalid=keep, OneHotEncoderModel: uid=OneHotEncoder_9910bf27adb5, dropLast=true, handleInvalid=error, OneHotEncoderModel: uid=OneHotEncoder_46e52397b1ad, dropLast=true, handleInvalid=error, VectorAssembler_51d0569f87f1, DecisionTreeClassificationModel: uid=DecisionTreeClassifier_d6c2f428b6f0, depth=5, numNodes=21, numClasses=2, numFeatures=11]\n"
          ]
        }
      ]
    },
    {
      "cell_type": "code",
      "source": [],
      "metadata": {
        "id": "mAVqPONhGOnZ"
      },
      "execution_count": null,
      "outputs": []
    }
  ]
}