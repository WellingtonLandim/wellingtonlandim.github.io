{
  "nbformat": 4,
  "nbformat_minor": 0,
  "metadata": {
    "colab": {
      "provenance": [],
      "authorship_tag": "ABX9TyPYvp0liVK6rjgmssX80bet",
      "include_colab_link": true
    },
    "kernelspec": {
      "name": "python3",
      "display_name": "Python 3"
    },
    "language_info": {
      "name": "python"
    },
    "widgets": {
      "application/vnd.jupyter.widget-state+json": {
        "bfecfc94caec4650aae2f032bbafd258": {
          "model_module": "@jupyter-widgets/controls",
          "model_name": "FileUploadModel",
          "model_module_version": "1.5.0",
          "state": {
            "_counter": 0,
            "_dom_classes": [],
            "_model_module": "@jupyter-widgets/controls",
            "_model_module_version": "1.5.0",
            "_model_name": "FileUploadModel",
            "_view_count": null,
            "_view_module": "@jupyter-widgets/controls",
            "_view_module_version": "1.5.0",
            "_view_name": "FileUploadView",
            "accept": ".pdf,.docx,.xlsx",
            "button_style": "",
            "data": [],
            "description": "Upload",
            "description_tooltip": null,
            "disabled": false,
            "error": "",
            "icon": "upload",
            "layout": "IPY_MODEL_4f2ca36bb5684a4b9b1e637e5453fd03",
            "metadata": [],
            "multiple": false,
            "style": "IPY_MODEL_57805604dc104ce29d818f041be6115f"
          }
        },
        "4f2ca36bb5684a4b9b1e637e5453fd03": {
          "model_module": "@jupyter-widgets/base",
          "model_name": "LayoutModel",
          "model_module_version": "1.2.0",
          "state": {
            "_model_module": "@jupyter-widgets/base",
            "_model_module_version": "1.2.0",
            "_model_name": "LayoutModel",
            "_view_count": null,
            "_view_module": "@jupyter-widgets/base",
            "_view_module_version": "1.2.0",
            "_view_name": "LayoutView",
            "align_content": null,
            "align_items": null,
            "align_self": null,
            "border": null,
            "bottom": null,
            "display": null,
            "flex": null,
            "flex_flow": null,
            "grid_area": null,
            "grid_auto_columns": null,
            "grid_auto_flow": null,
            "grid_auto_rows": null,
            "grid_column": null,
            "grid_gap": null,
            "grid_row": null,
            "grid_template_areas": null,
            "grid_template_columns": null,
            "grid_template_rows": null,
            "height": null,
            "justify_content": null,
            "justify_items": null,
            "left": null,
            "margin": null,
            "max_height": null,
            "max_width": null,
            "min_height": null,
            "min_width": null,
            "object_fit": null,
            "object_position": null,
            "order": null,
            "overflow": null,
            "overflow_x": null,
            "overflow_y": null,
            "padding": null,
            "right": null,
            "top": null,
            "visibility": null,
            "width": null
          }
        },
        "57805604dc104ce29d818f041be6115f": {
          "model_module": "@jupyter-widgets/controls",
          "model_name": "ButtonStyleModel",
          "model_module_version": "1.5.0",
          "state": {
            "_model_module": "@jupyter-widgets/controls",
            "_model_module_version": "1.5.0",
            "_model_name": "ButtonStyleModel",
            "_view_count": null,
            "_view_module": "@jupyter-widgets/base",
            "_view_module_version": "1.2.0",
            "_view_name": "StyleView",
            "button_color": null,
            "font_weight": ""
          }
        },
        "55f5b57d4f72420b8d1516bb887f1c27": {
          "model_module": "@jupyter-widgets/controls",
          "model_name": "FileUploadModel",
          "model_module_version": "1.5.0",
          "state": {
            "_counter": 0,
            "_dom_classes": [],
            "_model_module": "@jupyter-widgets/controls",
            "_model_module_version": "1.5.0",
            "_model_name": "FileUploadModel",
            "_view_count": null,
            "_view_module": "@jupyter-widgets/controls",
            "_view_module_version": "1.5.0",
            "_view_name": "FileUploadView",
            "accept": ".pdf,.docx,.xlsx",
            "button_style": "",
            "data": [],
            "description": "Upload",
            "description_tooltip": null,
            "disabled": false,
            "error": "",
            "icon": "upload",
            "layout": "IPY_MODEL_ca8395ba017044bfa266a34303f9864b",
            "metadata": [],
            "multiple": false,
            "style": "IPY_MODEL_ee76c6c572c94472aa9b6a869cfc0cbf"
          }
        },
        "ca8395ba017044bfa266a34303f9864b": {
          "model_module": "@jupyter-widgets/base",
          "model_name": "LayoutModel",
          "model_module_version": "1.2.0",
          "state": {
            "_model_module": "@jupyter-widgets/base",
            "_model_module_version": "1.2.0",
            "_model_name": "LayoutModel",
            "_view_count": null,
            "_view_module": "@jupyter-widgets/base",
            "_view_module_version": "1.2.0",
            "_view_name": "LayoutView",
            "align_content": null,
            "align_items": null,
            "align_self": null,
            "border": null,
            "bottom": null,
            "display": null,
            "flex": null,
            "flex_flow": null,
            "grid_area": null,
            "grid_auto_columns": null,
            "grid_auto_flow": null,
            "grid_auto_rows": null,
            "grid_column": null,
            "grid_gap": null,
            "grid_row": null,
            "grid_template_areas": null,
            "grid_template_columns": null,
            "grid_template_rows": null,
            "height": null,
            "justify_content": null,
            "justify_items": null,
            "left": null,
            "margin": null,
            "max_height": null,
            "max_width": null,
            "min_height": null,
            "min_width": null,
            "object_fit": null,
            "object_position": null,
            "order": null,
            "overflow": null,
            "overflow_x": null,
            "overflow_y": null,
            "padding": null,
            "right": null,
            "top": null,
            "visibility": null,
            "width": null
          }
        },
        "ee76c6c572c94472aa9b6a869cfc0cbf": {
          "model_module": "@jupyter-widgets/controls",
          "model_name": "ButtonStyleModel",
          "model_module_version": "1.5.0",
          "state": {
            "_model_module": "@jupyter-widgets/controls",
            "_model_module_version": "1.5.0",
            "_model_name": "ButtonStyleModel",
            "_view_count": null,
            "_view_module": "@jupyter-widgets/base",
            "_view_module_version": "1.2.0",
            "_view_name": "StyleView",
            "button_color": null,
            "font_weight": ""
          }
        }
      }
    }
  },
  "cells": [
    {
      "cell_type": "markdown",
      "metadata": {
        "id": "view-in-github",
        "colab_type": "text"
      },
      "source": [
        "<a href=\"https://colab.research.google.com/github/WellingtonLandim/wellingtonlandim.github.io/blob/main/Comparador_Arquivos/Comparador_Arquivos.ipynb\" target=\"_parent\"><img src=\"https://colab.research.google.com/assets/colab-badge.svg\" alt=\"Open In Colab\"/></a>"
      ]
    },
    {
      "cell_type": "code",
      "source": [
        "!pip install PyMuPDF\n",
        "!pip install python-docx"
      ],
      "metadata": {
        "colab": {
          "base_uri": "https://localhost:8080/"
        },
        "id": "8Jxdz6QY0Fdd",
        "outputId": "84108bdb-8077-4065-caaa-d75db442989e"
      },
      "execution_count": 23,
      "outputs": [
        {
          "output_type": "stream",
          "name": "stdout",
          "text": [
            "Requirement already satisfied: PyMuPDF in /usr/local/lib/python3.11/dist-packages (1.25.2)\n",
            "Collecting python-docx\n",
            "  Downloading python_docx-1.1.2-py3-none-any.whl.metadata (2.0 kB)\n",
            "Requirement already satisfied: lxml>=3.1.0 in /usr/local/lib/python3.11/dist-packages (from python-docx) (5.3.0)\n",
            "Requirement already satisfied: typing-extensions>=4.9.0 in /usr/local/lib/python3.11/dist-packages (from python-docx) (4.12.2)\n",
            "Downloading python_docx-1.1.2-py3-none-any.whl (244 kB)\n",
            "\u001b[2K   \u001b[90m━━━━━━━━━━━━━━━━━━━━━━━━━━━━━━━━━━━━━━━━\u001b[0m \u001b[32m244.3/244.3 kB\u001b[0m \u001b[31m4.5 MB/s\u001b[0m eta \u001b[36m0:00:00\u001b[0m\n",
            "\u001b[?25hInstalling collected packages: python-docx\n",
            "Successfully installed python-docx-1.1.2\n"
          ]
        }
      ]
    },
    {
      "cell_type": "code",
      "source": [
        "import fitz  # PyMuPDF\n",
        "import difflib\n",
        "\n",
        "import ipywidgets as widgets\n",
        "from IPython.display import display\n",
        "\n",
        "import os\n",
        "from docx import Document\n",
        "import openpyxl"
      ],
      "metadata": {
        "id": "niCy04Ap0J5I"
      },
      "execution_count": 24,
      "outputs": []
    },
    {
      "cell_type": "code",
      "source": [
        "# Função para extrair texto de um arquivo PDF\n",
        "def extract_text_from_pdf(file_path):\n",
        "    text = \"\"\n",
        "    with fitz.open(file_path) as doc:\n",
        "        for page in doc:\n",
        "            text += page.get_text()\n",
        "    return text"
      ],
      "metadata": {
        "id": "DrpApgfS0L97"
      },
      "execution_count": 25,
      "outputs": []
    },
    {
      "cell_type": "code",
      "source": [
        "def on_file_selected(change):\n",
        "    uploaded_file = list(file_upload.value.values())[0]\n",
        "    file_content = uploaded_file['content']\n",
        "    file_name = uploaded_file['metadata']['name']\n",
        "    with open(file_name, 'wb') as f:\n",
        "        f.write(file_content)\n",
        "    print(f\"Arquivo '{file_name}' carregado com sucesso.\")"
      ],
      "metadata": {
        "id": "FfKvwTQI2G_z"
      },
      "execution_count": 18,
      "outputs": []
    },
    {
      "cell_type": "code",
      "source": [
        "# Função para extrair texto de um arquivo PDF\n",
        "def extract_text_from_pdf(file_path):\n",
        "    text = \"\"\n",
        "    with fitz.open(file_path) as doc:\n",
        "        for page in doc:\n",
        "            text += page.get_text()\n",
        "    return text\n"
      ],
      "metadata": {
        "id": "Vn_86QF73sHm"
      },
      "execution_count": 26,
      "outputs": []
    },
    {
      "cell_type": "code",
      "source": [
        "def extract_text_from_docx(file_path):\n",
        "    doc = Document(file_path)\n",
        "    text = \"\"\n",
        "    for paragraph in doc.paragraphs:\n",
        "        text += paragraph.text + \"\\n\"\n",
        "    return text"
      ],
      "metadata": {
        "id": "w4LUHN3o3uOK"
      },
      "execution_count": 27,
      "outputs": []
    },
    {
      "cell_type": "code",
      "source": [
        "def extract_text_from_xlsx(file_path):\n",
        "    workbook = openpyxl.load_workbook(file_path, read_only=True)\n",
        "    text = \"\"\n",
        "    for sheet_name in workbook.sheetnames:\n",
        "        sheet = workbook[sheet_name]\n",
        "        for row in sheet.iter_rows():\n",
        "            for cell in row:\n",
        "                text += str(cell.value) + \" \"\n",
        "            text += \"\\n\"\n",
        "    return text"
      ],
      "metadata": {
        "id": "riIuEheD3wZA"
      },
      "execution_count": 28,
      "outputs": []
    },
    {
      "cell_type": "code",
      "source": [
        "text1 = \"\"\n",
        "text2 = \"\"\n",
        "def on_file_selected(b):\n",
        "    global text1, text2, file1_name, file2_name # Declarando como globais para acesso fora da função\n",
        "    uploaded_file = list(file_upload1.value.values())[0]\n",
        "    file_content = uploaded_file['content']\n",
        "    file1_name = uploaded_file['metadata']['name']\n",
        "\n",
        "    with open(file1_name, 'wb') as f:\n",
        "        f.write(file_content)\n",
        "\n",
        "    if file1_name.lower().endswith(('.pdf', '.docx', '.xlsx')):\n",
        "      if file1_name.lower().endswith(\".pdf\"):\n",
        "        text1 = extract_text_from_pdf(file1_name)\n",
        "      elif file1_name.lower().endswith(\".docx\"):\n",
        "        text1 = extract_text_from_docx(file1_name)\n",
        "      elif file1_name.lower().endswith(\".xlsx\"):\n",
        "        text1 = extract_text_from_xlsx(file1_name)\n",
        "      print(f\"Arquivo '{file1_name}' carregado e texto extraído para text1.\")\n",
        "    else:\n",
        "      print(f\"Formato de arquivo '{file1_name}' inválido.\")\n",
        "      text1 = \"\""
      ],
      "metadata": {
        "id": "ABu97IRQ3zh9"
      },
      "execution_count": 41,
      "outputs": []
    },
    {
      "cell_type": "code",
      "source": [
        "def on_file_selected2(b):\n",
        "    global text1, text2, file1_name, file2_name # Declarando como globais para acesso fora da função\n",
        "    uploaded_file = list(file_upload2.value.values())[0]\n",
        "    file_content = uploaded_file['content']\n",
        "    file2_name = uploaded_file['metadata']['name']\n",
        "    with open(file2_name, 'wb') as f:\n",
        "        f.write(file_content)\n",
        "\n",
        "    if file2_name.lower().endswith(('.pdf', '.docx', '.xlsx')):\n",
        "      if file2_name.lower().endswith(\".pdf\"):\n",
        "        text2 = extract_text_from_pdf(file2_name)\n",
        "      elif file2_name.lower().endswith(\".docx\"):\n",
        "        text2 = extract_text_from_docx(file2_name)\n",
        "      elif file2_name.lower().endswith(\".xlsx\"):\n",
        "        text2 = extract_text_from_xlsx(file2_name)\n",
        "      print(f\"Arquivo '{file2_name}' carregado e texto extraído para text2.\")\n",
        "    else:\n",
        "      print(f\"Formato de arquivo '{file2_name}' inválido.\")\n",
        "      text2 = \"\"\n",
        "    #Agora você pode usar text1 e text2. Exemplo:\n",
        "    #print(text1)\n",
        "    #print(text2)"
      ],
      "metadata": {
        "id": "VMW9UMYM33OV"
      },
      "execution_count": 30,
      "outputs": []
    },
    {
      "cell_type": "code",
      "source": [
        "#Criando os widgets de upload de arquivos\n",
        "file_upload1 = widgets.FileUpload(accept='.pdf,.docx,.xlsx', multiple=False)\n",
        "\n",
        "#Associando as funções aos eventos de seleção de arquivos\n",
        "file_upload1.observe(on_file_selected, names='value')\n",
        "\n",
        "display(file_upload1)"
      ],
      "metadata": {
        "colab": {
          "base_uri": "https://localhost:8080/",
          "height": 49,
          "referenced_widgets": [
            "bfecfc94caec4650aae2f032bbafd258",
            "4f2ca36bb5684a4b9b1e637e5453fd03",
            "57805604dc104ce29d818f041be6115f"
          ]
        },
        "collapsed": true,
        "id": "OMFfPpNO2_Gi",
        "outputId": "1599fbb7-2fd1-4588-9497-2f43b951a4c4"
      },
      "execution_count": 38,
      "outputs": [
        {
          "output_type": "display_data",
          "data": {
            "text/plain": [
              "FileUpload(value={}, accept='.pdf,.docx,.xlsx', description='Upload')"
            ],
            "application/vnd.jupyter.widget-view+json": {
              "version_major": 2,
              "version_minor": 0,
              "model_id": "bfecfc94caec4650aae2f032bbafd258"
            }
          },
          "metadata": {}
        }
      ]
    },
    {
      "cell_type": "code",
      "source": [
        "file_upload2 = widgets.FileUpload(accept='.pdf,.docx,.xlsx', multiple=False)\n",
        "file_upload2.observe(on_file_selected2, names='value')\n",
        "display(file_upload2)"
      ],
      "metadata": {
        "colab": {
          "base_uri": "https://localhost:8080/",
          "height": 49,
          "referenced_widgets": [
            "55f5b57d4f72420b8d1516bb887f1c27",
            "ca8395ba017044bfa266a34303f9864b",
            "ee76c6c572c94472aa9b6a869cfc0cbf"
          ]
        },
        "id": "G0G7Es924NwA",
        "outputId": "b046c7e4-71b1-4d79-e777-947ad1f442cb"
      },
      "execution_count": 39,
      "outputs": [
        {
          "output_type": "display_data",
          "data": {
            "text/plain": [
              "FileUpload(value={}, accept='.pdf,.docx,.xlsx', description='Upload')"
            ],
            "application/vnd.jupyter.widget-view+json": {
              "version_major": 2,
              "version_minor": 0,
              "model_id": "55f5b57d4f72420b8d1516bb887f1c27"
            }
          },
          "metadata": {}
        }
      ]
    },
    {
      "cell_type": "code",
      "source": [
        "# prompt: comparar os textos em text1 e text2 , se houver alguma diferença encontrada realizar print na tela, se não escrever \"nenhuma diferença encontrada\"\n",
        "\n",
        "# Comparar os textos usando difflib\n",
        "diff = difflib.unified_diff(text1.splitlines(), text2.splitlines(), fromfile='arquivo1.pdf', tofile='arquivo2.pdf', lineterm='')\n",
        "\n",
        "differences_found = False\n",
        "for line in diff:\n",
        "        print(line)\n",
        "        differences_found = True\n",
        "\n",
        "if not differences_found:\n",
        "    print(\"Nenhuma diferença encontrada\")"
      ],
      "metadata": {
        "colab": {
          "base_uri": "https://localhost:8080/"
        },
        "collapsed": true,
        "id": "jSFnaI0l01d7",
        "outputId": "694bfd43-bb11-4da2-8243-40c096cabf2a"
      },
      "execution_count": 42,
      "outputs": [
        {
          "output_type": "stream",
          "name": "stdout",
          "text": [
            "Nenhuma diferença encontrada\n"
          ]
        }
      ]
    }
  ]
}