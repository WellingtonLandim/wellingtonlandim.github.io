{
  "nbformat": 4,
  "nbformat_minor": 0,
  "metadata": {
    "colab": {
      "provenance": [],
      "authorship_tag": "ABX9TyOp3QY7KnqlOq0R96Jg4j01",
      "include_colab_link": true
    },
    "kernelspec": {
      "name": "python3",
      "display_name": "Python 3"
    },
    "language_info": {
      "name": "python"
    },
    "widgets": {
      "application/vnd.jupyter.widget-state+json": {
        "9bb54957108f4803bebe906ee188e371": {
          "model_module": "@jupyter-widgets/controls",
          "model_name": "FileUploadModel",
          "model_module_version": "1.5.0",
          "state": {
            "_counter": 1,
            "_dom_classes": [],
            "_model_module": "@jupyter-widgets/controls",
            "_model_module_version": "1.5.0",
            "_model_name": "FileUploadModel",
            "_view_count": null,
            "_view_module": "@jupyter-widgets/controls",
            "_view_module_version": "1.5.0",
            "_view_name": "FileUploadView",
            "accept": ".pdf,.docx,.xlsx",
            "button_style": "",
            "data": [
              null
            ],
            "description": "Upload",
            "description_tooltip": null,
            "disabled": false,
            "error": "",
            "icon": "upload",
            "layout": "IPY_MODEL_5aa7536f6b50489d8a0514e333d95506",
            "metadata": [
              {
                "name": "PROPTE~2.PDF",
                "type": "application/pdf",
                "size": 616148,
                "lastModified": 1736508141367
              }
            ],
            "multiple": false,
            "style": "IPY_MODEL_54a1da9a686b4812aa4b8dc0dc0d1ae0"
          }
        },
        "5aa7536f6b50489d8a0514e333d95506": {
          "model_module": "@jupyter-widgets/base",
          "model_name": "LayoutModel",
          "model_module_version": "1.2.0",
          "state": {
            "_model_module": "@jupyter-widgets/base",
            "_model_module_version": "1.2.0",
            "_model_name": "LayoutModel",
            "_view_count": null,
            "_view_module": "@jupyter-widgets/base",
            "_view_module_version": "1.2.0",
            "_view_name": "LayoutView",
            "align_content": null,
            "align_items": null,
            "align_self": null,
            "border": null,
            "bottom": null,
            "display": null,
            "flex": null,
            "flex_flow": null,
            "grid_area": null,
            "grid_auto_columns": null,
            "grid_auto_flow": null,
            "grid_auto_rows": null,
            "grid_column": null,
            "grid_gap": null,
            "grid_row": null,
            "grid_template_areas": null,
            "grid_template_columns": null,
            "grid_template_rows": null,
            "height": null,
            "justify_content": null,
            "justify_items": null,
            "left": null,
            "margin": null,
            "max_height": null,
            "max_width": null,
            "min_height": null,
            "min_width": null,
            "object_fit": null,
            "object_position": null,
            "order": null,
            "overflow": null,
            "overflow_x": null,
            "overflow_y": null,
            "padding": null,
            "right": null,
            "top": null,
            "visibility": null,
            "width": null
          }
        },
        "54a1da9a686b4812aa4b8dc0dc0d1ae0": {
          "model_module": "@jupyter-widgets/controls",
          "model_name": "ButtonStyleModel",
          "model_module_version": "1.5.0",
          "state": {
            "_model_module": "@jupyter-widgets/controls",
            "_model_module_version": "1.5.0",
            "_model_name": "ButtonStyleModel",
            "_view_count": null,
            "_view_module": "@jupyter-widgets/base",
            "_view_module_version": "1.2.0",
            "_view_name": "StyleView",
            "button_color": null,
            "font_weight": ""
          }
        },
        "6c62cd9908f34adca1eba57345dbec75": {
          "model_module": "@jupyter-widgets/controls",
          "model_name": "FileUploadModel",
          "model_module_version": "1.5.0",
          "state": {
            "_counter": 1,
            "_dom_classes": [],
            "_model_module": "@jupyter-widgets/controls",
            "_model_module_version": "1.5.0",
            "_model_name": "FileUploadModel",
            "_view_count": null,
            "_view_module": "@jupyter-widgets/controls",
            "_view_module_version": "1.5.0",
            "_view_name": "FileUploadView",
            "accept": ".pdf,.docx,.xlsx",
            "button_style": "",
            "data": [
              null
            ],
            "description": "Upload",
            "description_tooltip": null,
            "disabled": false,
            "error": "",
            "icon": "upload",
            "layout": "IPY_MODEL_4cfbc79a69dc4e3bb6b64989bbbee0c8",
            "metadata": [
              {
                "name": "Proposta_Te_cnica_9Q2400427_-_Melhoria_S-VWBRRECWLL030.pdf",
                "type": "application/pdf",
                "size": 666655,
                "lastModified": 1738151523203
              }
            ],
            "multiple": false,
            "style": "IPY_MODEL_0af9a228c3f7430dbf093b8fddc5b488"
          }
        },
        "4cfbc79a69dc4e3bb6b64989bbbee0c8": {
          "model_module": "@jupyter-widgets/base",
          "model_name": "LayoutModel",
          "model_module_version": "1.2.0",
          "state": {
            "_model_module": "@jupyter-widgets/base",
            "_model_module_version": "1.2.0",
            "_model_name": "LayoutModel",
            "_view_count": null,
            "_view_module": "@jupyter-widgets/base",
            "_view_module_version": "1.2.0",
            "_view_name": "LayoutView",
            "align_content": null,
            "align_items": null,
            "align_self": null,
            "border": null,
            "bottom": null,
            "display": null,
            "flex": null,
            "flex_flow": null,
            "grid_area": null,
            "grid_auto_columns": null,
            "grid_auto_flow": null,
            "grid_auto_rows": null,
            "grid_column": null,
            "grid_gap": null,
            "grid_row": null,
            "grid_template_areas": null,
            "grid_template_columns": null,
            "grid_template_rows": null,
            "height": null,
            "justify_content": null,
            "justify_items": null,
            "left": null,
            "margin": null,
            "max_height": null,
            "max_width": null,
            "min_height": null,
            "min_width": null,
            "object_fit": null,
            "object_position": null,
            "order": null,
            "overflow": null,
            "overflow_x": null,
            "overflow_y": null,
            "padding": null,
            "right": null,
            "top": null,
            "visibility": null,
            "width": null
          }
        },
        "0af9a228c3f7430dbf093b8fddc5b488": {
          "model_module": "@jupyter-widgets/controls",
          "model_name": "ButtonStyleModel",
          "model_module_version": "1.5.0",
          "state": {
            "_model_module": "@jupyter-widgets/controls",
            "_model_module_version": "1.5.0",
            "_model_name": "ButtonStyleModel",
            "_view_count": null,
            "_view_module": "@jupyter-widgets/base",
            "_view_module_version": "1.2.0",
            "_view_name": "StyleView",
            "button_color": null,
            "font_weight": ""
          }
        }
      }
    }
  },
  "cells": [
    {
      "cell_type": "markdown",
      "metadata": {
        "id": "view-in-github",
        "colab_type": "text"
      },
      "source": [
        "<a href=\"https://colab.research.google.com/github/WellingtonLandim/wellingtonlandim.github.io/blob/main/Comparador_Arquivos/Comparador_Arquivos.ipynb\" target=\"_parent\"><img src=\"https://colab.research.google.com/assets/colab-badge.svg\" alt=\"Open In Colab\"/></a>"
      ]
    },
    {
      "cell_type": "code",
      "source": [
        "!pip install PyMuPDF\n",
        "!pip install python-docx"
      ],
      "metadata": {
        "colab": {
          "base_uri": "https://localhost:8080/"
        },
        "id": "8Jxdz6QY0Fdd",
        "outputId": "84108bdb-8077-4065-caaa-d75db442989e"
      },
      "execution_count": 23,
      "outputs": [
        {
          "output_type": "stream",
          "name": "stdout",
          "text": [
            "Requirement already satisfied: PyMuPDF in /usr/local/lib/python3.11/dist-packages (1.25.2)\n",
            "Collecting python-docx\n",
            "  Downloading python_docx-1.1.2-py3-none-any.whl.metadata (2.0 kB)\n",
            "Requirement already satisfied: lxml>=3.1.0 in /usr/local/lib/python3.11/dist-packages (from python-docx) (5.3.0)\n",
            "Requirement already satisfied: typing-extensions>=4.9.0 in /usr/local/lib/python3.11/dist-packages (from python-docx) (4.12.2)\n",
            "Downloading python_docx-1.1.2-py3-none-any.whl (244 kB)\n",
            "\u001b[2K   \u001b[90m━━━━━━━━━━━━━━━━━━━━━━━━━━━━━━━━━━━━━━━━\u001b[0m \u001b[32m244.3/244.3 kB\u001b[0m \u001b[31m4.5 MB/s\u001b[0m eta \u001b[36m0:00:00\u001b[0m\n",
            "\u001b[?25hInstalling collected packages: python-docx\n",
            "Successfully installed python-docx-1.1.2\n"
          ]
        }
      ]
    },
    {
      "cell_type": "code",
      "source": [
        "import fitz  # PyMuPDF\n",
        "import difflib\n",
        "\n",
        "import ipywidgets as widgets\n",
        "from IPython.display import display\n",
        "\n",
        "import os\n",
        "from docx import Document\n",
        "import openpyxl"
      ],
      "metadata": {
        "id": "niCy04Ap0J5I"
      },
      "execution_count": 24,
      "outputs": []
    },
    {
      "cell_type": "code",
      "source": [
        "# Função para extrair texto de um arquivo PDF\n",
        "def extract_text_from_pdf(file_path):\n",
        "    text = \"\"\n",
        "    with fitz.open(file_path) as doc:\n",
        "        for page in doc:\n",
        "            text += page.get_text()\n",
        "    return text"
      ],
      "metadata": {
        "id": "DrpApgfS0L97"
      },
      "execution_count": 25,
      "outputs": []
    },
    {
      "cell_type": "code",
      "source": [
        "def on_file_selected(change):\n",
        "    uploaded_file = list(file_upload.value.values())[0]\n",
        "    file_content = uploaded_file['content']\n",
        "    file_name = uploaded_file['metadata']['name']\n",
        "    with open(file_name, 'wb') as f:\n",
        "        f.write(file_content)\n",
        "    print(f\"Arquivo '{file_name}' carregado com sucesso.\")"
      ],
      "metadata": {
        "id": "FfKvwTQI2G_z"
      },
      "execution_count": 18,
      "outputs": []
    },
    {
      "cell_type": "code",
      "source": [
        "# Função para extrair texto de um arquivo PDF\n",
        "def extract_text_from_pdf(file_path):\n",
        "    text = \"\"\n",
        "    with fitz.open(file_path) as doc:\n",
        "        for page in doc:\n",
        "            text += page.get_text()\n",
        "    return text\n"
      ],
      "metadata": {
        "id": "Vn_86QF73sHm"
      },
      "execution_count": 26,
      "outputs": []
    },
    {
      "cell_type": "code",
      "source": [
        "def extract_text_from_docx(file_path):\n",
        "    doc = Document(file_path)\n",
        "    text = \"\"\n",
        "    for paragraph in doc.paragraphs:\n",
        "        text += paragraph.text + \"\\n\"\n",
        "    return text"
      ],
      "metadata": {
        "id": "w4LUHN3o3uOK"
      },
      "execution_count": 27,
      "outputs": []
    },
    {
      "cell_type": "code",
      "source": [
        "def extract_text_from_xlsx(file_path):\n",
        "    workbook = openpyxl.load_workbook(file_path, read_only=True)\n",
        "    text = \"\"\n",
        "    for sheet_name in workbook.sheetnames:\n",
        "        sheet = workbook[sheet_name]\n",
        "        for row in sheet.iter_rows():\n",
        "            for cell in row:\n",
        "                text += str(cell.value) + \" \"\n",
        "            text += \"\\n\"\n",
        "    return text"
      ],
      "metadata": {
        "id": "riIuEheD3wZA"
      },
      "execution_count": 28,
      "outputs": []
    },
    {
      "cell_type": "code",
      "source": [
        "def on_file_selected(b):\n",
        "    global text1, text2, file1_name, file2_name # Declarando como globais para acesso fora da função\n",
        "    uploaded_file = list(file_upload1.value.values())[0]\n",
        "    file_content = uploaded_file['content']\n",
        "    file1_name = uploaded_file['metadata']['name']\n",
        "\n",
        "    with open(file1_name, 'wb') as f:\n",
        "        f.write(file_content)\n",
        "\n",
        "    if file1_name.lower().endswith(('.pdf', '.docx', '.xlsx')):\n",
        "      if file1_name.lower().endswith(\".pdf\"):\n",
        "        text1 = extract_text_from_pdf(file1_name)\n",
        "      elif file1_name.lower().endswith(\".docx\"):\n",
        "        text1 = extract_text_from_docx(file1_name)\n",
        "      elif file1_name.lower().endswith(\".xlsx\"):\n",
        "        text1 = extract_text_from_xlsx(file1_name)\n",
        "      print(f\"Arquivo '{file1_name}' carregado e texto extraído para text1.\")\n",
        "    else:\n",
        "      print(f\"Formato de arquivo '{file1_name}' inválido.\")\n",
        "      text1 = \"\""
      ],
      "metadata": {
        "id": "ABu97IRQ3zh9"
      },
      "execution_count": 29,
      "outputs": []
    },
    {
      "cell_type": "code",
      "source": [
        "def on_file_selected2(b):\n",
        "    global text1, text2, file1_name, file2_name # Declarando como globais para acesso fora da função\n",
        "    uploaded_file = list(file_upload2.value.values())[0]\n",
        "    file_content = uploaded_file['content']\n",
        "    file2_name = uploaded_file['metadata']['name']\n",
        "    with open(file2_name, 'wb') as f:\n",
        "        f.write(file_content)\n",
        "\n",
        "    if file2_name.lower().endswith(('.pdf', '.docx', '.xlsx')):\n",
        "      if file2_name.lower().endswith(\".pdf\"):\n",
        "        text2 = extract_text_from_pdf(file2_name)\n",
        "      elif file2_name.lower().endswith(\".docx\"):\n",
        "        text2 = extract_text_from_docx(file2_name)\n",
        "      elif file2_name.lower().endswith(\".xlsx\"):\n",
        "        text2 = extract_text_from_xlsx(file2_name)\n",
        "      print(f\"Arquivo '{file2_name}' carregado e texto extraído para text2.\")\n",
        "    else:\n",
        "      print(f\"Formato de arquivo '{file2_name}' inválido.\")\n",
        "      text2 = \"\"\n",
        "    #Agora você pode usar text1 e text2. Exemplo:\n",
        "    #print(text1)\n",
        "    #print(text2)"
      ],
      "metadata": {
        "id": "VMW9UMYM33OV"
      },
      "execution_count": 30,
      "outputs": []
    },
    {
      "cell_type": "code",
      "source": [
        "#Criando os widgets de upload de arquivos\n",
        "file_upload1 = widgets.FileUpload(accept='.pdf,.docx,.xlsx', multiple=False)\n",
        "\n",
        "#Associando as funções aos eventos de seleção de arquivos\n",
        "file_upload1.observe(on_file_selected, names='value')\n",
        "\n",
        "display(file_upload1)"
      ],
      "metadata": {
        "colab": {
          "base_uri": "https://localhost:8080/",
          "height": 66,
          "referenced_widgets": [
            "9bb54957108f4803bebe906ee188e371",
            "5aa7536f6b50489d8a0514e333d95506",
            "54a1da9a686b4812aa4b8dc0dc0d1ae0"
          ]
        },
        "collapsed": true,
        "id": "OMFfPpNO2_Gi",
        "outputId": "ccca3eab-521e-4a78-aa2b-62f664b21f51"
      },
      "execution_count": 36,
      "outputs": [
        {
          "output_type": "display_data",
          "data": {
            "text/plain": [
              "FileUpload(value={}, accept='.pdf,.docx,.xlsx', description='Upload')"
            ],
            "application/vnd.jupyter.widget-view+json": {
              "version_major": 2,
              "version_minor": 0,
              "model_id": "9bb54957108f4803bebe906ee188e371"
            }
          },
          "metadata": {}
        },
        {
          "output_type": "stream",
          "name": "stdout",
          "text": [
            "Arquivo 'PROPTE~2.PDF' carregado e texto extraído para text1.\n"
          ]
        }
      ]
    },
    {
      "cell_type": "code",
      "source": [
        "file_upload2 = widgets.FileUpload(accept='.pdf,.docx,.xlsx', multiple=False)\n",
        "file_upload2.observe(on_file_selected2, names='value')\n",
        "display(file_upload2)"
      ],
      "metadata": {
        "colab": {
          "base_uri": "https://localhost:8080/",
          "height": 66,
          "referenced_widgets": [
            "6c62cd9908f34adca1eba57345dbec75",
            "4cfbc79a69dc4e3bb6b64989bbbee0c8",
            "0af9a228c3f7430dbf093b8fddc5b488"
          ]
        },
        "id": "G0G7Es924NwA",
        "outputId": "2ff70802-ff06-47eb-8fb6-ff3902c279d7"
      },
      "execution_count": 35,
      "outputs": [
        {
          "output_type": "display_data",
          "data": {
            "text/plain": [
              "FileUpload(value={}, accept='.pdf,.docx,.xlsx', description='Upload')"
            ],
            "application/vnd.jupyter.widget-view+json": {
              "version_major": 2,
              "version_minor": 0,
              "model_id": "6c62cd9908f34adca1eba57345dbec75"
            }
          },
          "metadata": {}
        },
        {
          "output_type": "stream",
          "name": "stdout",
          "text": [
            "Arquivo 'Proposta_Te_cnica_9Q2400427_-_Melhoria_S-VWBRRECWLL030.pdf' carregado e texto extraído para text2.\n"
          ]
        }
      ]
    },
    {
      "cell_type": "code",
      "source": [
        "# prompt: comparar os textos em text1 e text2 , se houver alguma diferença encontrada realizar print na tela, se não escrever \"nenhuma diferença encontrada\"\n",
        "\n",
        "# Comparar os textos usando difflib\n",
        "diff = difflib.unified_diff(text1.splitlines(), text2.splitlines(), fromfile='arquivo1.pdf', tofile='arquivo2.pdf', lineterm='')\n",
        "\n",
        "differences_found = False\n",
        "for line in diff:\n",
        "        print(line)\n",
        "        differences_found = True\n",
        "\n",
        "if not differences_found:\n",
        "    print(\"Nenhuma diferença encontrada\")"
      ],
      "metadata": {
        "colab": {
          "base_uri": "https://localhost:8080/"
        },
        "collapsed": true,
        "id": "jSFnaI0l01d7",
        "outputId": "2e2bebb8-7ac9-49fc-9b79-e32318d57c78"
      },
      "execution_count": 37,
      "outputs": [
        {
          "output_type": "stream",
          "name": "stdout",
          "text": [
            "--- arquivo1.pdf\n",
            "+++ arquivo2.pdf\n",
            "@@ -33,13 +33,13 @@\n",
            " Pessoa de contato \n",
            " RFQ Nr 221 \n",
            " 30 de Setembro de 2024 \n",
            "-18 de janeiro de 2025 \n",
            "+17 de fevereiro de 2025 \n",
            " Jonathan Vitor \n",
            " Telefone:  +55 11 2161 1247 \n",
            " E-mail: j.vitor@pentanova.com \n",
            "  \n",
            " Proposta Técnica : 9Q2400427 Revisão inicial (Rev.01) \n",
            "-São Paulo, 20/12/2024 \n",
            "+São Paulo, 17/01/2025 \n",
            "  \n",
            "  \n",
            " Prezada Raquel, \n",
            "@@ -76,7 +76,7 @@\n",
            "   \n",
            " Volkswagen \n",
            " Proposta Técnica  No. 9Q2400427 \n",
            "-Revisão inicial (Rev.01) de 20/12/2024 \n",
            "+Revisão inicial (Rev.01) de 17/01/2025 \n",
            "  \n",
            " Sumário \n",
            "  \n",
            "@@ -166,14 +166,14 @@\n",
            " TERMO DE GARANTIA ......................................................................................... 25 \n",
            " Volkswagen \n",
            " Proposta Técnica  No. 9Q2400427 \n",
            "-Revisão inicial (Rev.01) de 20/12/2024 \n",
            "+Revisão inicial (Rev.01) de 17/01/2025 \n",
            "  \n",
            " 11. \n",
            " CONDIÇÕES GERAIS DE VENDA, PAGAMENTO E FORNECIMENTO .............................. 28 \n",
            "  \n",
            " Volkswagen \n",
            " Proposta Técnica  No. 9Q2400427 \n",
            "-Revisão inicial (Rev.01) de 20/12/2024 \n",
            "+Revisão inicial (Rev.01) de 17/01/2025 \n",
            " Página 5 de 30 \n",
            " 1. \n",
            " RESUMO DA PROPOSTA \n",
            "@@ -209,7 +209,7 @@\n",
            "  \n",
            " Volkswagen \n",
            " Proposta Técnica  No. 9Q2400427 \n",
            "-Revisão inicial (Rev.01) de 20/12/2024 \n",
            "+Revisão inicial (Rev.01) de 17/01/2025 \n",
            " Página 6 de 30 \n",
            " 1.2. \n",
            " Resumo de preços \n",
            "@@ -232,7 +232,7 @@\n",
            " Melhoria Sistema Spray do \n",
            " Desengraxe de Cabines.pdf \n",
            " Jonathan Vitor \n",
            "-20/12/2024 \n",
            "+17/01/2025 \n",
            " 1 \n",
            " Técnica \n",
            " Melhoria Sistema Spray do \n",
            "@@ -270,7 +270,7 @@\n",
            "  \n",
            " Volkswagen \n",
            " Proposta Técnica  No. 9Q2400427 \n",
            "-Revisão inicial (Rev.01) de 20/12/2024 \n",
            "+Revisão inicial (Rev.01) de 17/01/2025 \n",
            " Página 7 de 30 \n",
            " 3. \n",
            " PARAMETROS GERAIS DA COTAÇÃO \n",
            "@@ -310,7 +310,7 @@\n",
            "  \n",
            " Volkswagen \n",
            " Proposta Técnica  No. 9Q2400427 \n",
            "-Revisão inicial (Rev.01) de 20/12/2024 \n",
            "+Revisão inicial (Rev.01) de 17/01/2025 \n",
            " Página 8 de 30 \n",
            " 4. \n",
            " REQUERIMENTOS DIVERSOS \n",
            "@@ -346,7 +346,7 @@\n",
            "  \n",
            " Volkswagen \n",
            " Proposta Técnica  No. 9Q2400427 \n",
            "-Revisão inicial (Rev.01) de 20/12/2024 \n",
            "+Revisão inicial (Rev.01) de 17/01/2025 \n",
            " Página 9 de 30 \n",
            " 4.2.3. \n",
            " Começo da produção (SOP) \n",
            "@@ -411,7 +411,7 @@\n",
            "  \n",
            " Volkswagen \n",
            " Proposta Técnica  No. 9Q2400427 \n",
            "-Revisão inicial (Rev.01) de 20/12/2024 \n",
            "+Revisão inicial (Rev.01) de 17/01/2025 \n",
            " Página 10 de 30 \n",
            " 4.5. \n",
            " Aceitação final da instalação \n",
            "@@ -424,7 +424,7 @@\n",
            "  \n",
            " Volkswagen \n",
            " Proposta Técnica  No. 9Q2400427 \n",
            "-Revisão inicial (Rev.01) de 20/12/2024 \n",
            "+Revisão inicial (Rev.01) de 17/01/2025 \n",
            " Página 11 de 30 \n",
            " 5. \n",
            " INFORMAÇÕES DO PROJETO \n",
            "@@ -463,7 +463,7 @@\n",
            "  \n",
            " Volkswagen \n",
            " Proposta Técnica  No. 9Q2400427 \n",
            "-Revisão inicial (Rev.01) de 20/12/2024 \n",
            "+Revisão inicial (Rev.01) de 17/01/2025 \n",
            " Página 12 de 30 \n",
            "  \n",
            "  \n",
            "@@ -482,7 +482,7 @@\n",
            "  \n",
            " Volkswagen \n",
            " Proposta Técnica  No. 9Q2400427 \n",
            "-Revisão inicial (Rev.01) de 20/12/2024 \n",
            "+Revisão inicial (Rev.01) de 17/01/2025 \n",
            " Página 13 de 30 \n",
            " 6. \n",
            " DESCRIÇÃO DO ESCOPO \n",
            "@@ -566,7 +566,7 @@\n",
            "  \n",
            " Volkswagen \n",
            " Proposta Técnica  No. 9Q2400427 \n",
            "-Revisão inicial (Rev.01) de 20/12/2024 \n",
            "+Revisão inicial (Rev.01) de 17/01/2025 \n",
            " Página 14 de 30 \n",
            " Nota: Nos reservamos o direito de caso os valores acima não sejam atingidos isoladamente ou o \n",
            " sistema não atinja os resultados esperados, de apresentar, caso seja desejo da VW soluções de melhoria \n",
            "@@ -608,7 +608,7 @@\n",
            "  \n",
            " Volkswagen \n",
            " Proposta Técnica  No. 9Q2400427 \n",
            "-Revisão inicial (Rev.01) de 20/12/2024 \n",
            "+Revisão inicial (Rev.01) de 17/01/2025 \n",
            " Página 15 de 30 \n",
            "  \n",
            " Imagem ilustrativa exemplo de bomba a ser instada \n",
            "@@ -648,7 +648,7 @@\n",
            " responsável pela limpeza grosseira de obra. \n",
            " Volkswagen \n",
            " Proposta Técnica  No. 9Q2400427 \n",
            "-Revisão inicial (Rev.01) de 20/12/2024 \n",
            "+Revisão inicial (Rev.01) de 17/01/2025 \n",
            " Página 16 de 30 \n",
            "  \n",
            " É de responsabilidade do cliente disponibilizar áreas e infraestruturas necessárias para a instalação do \n",
            "@@ -686,7 +686,7 @@\n",
            "  \n",
            " Volkswagen \n",
            " Proposta Técnica  No. 9Q2400427 \n",
            "-Revisão inicial (Rev.01) de 20/12/2024 \n",
            "+Revisão inicial (Rev.01) de 17/01/2025 \n",
            " Página 17 de 30 \n",
            " 6.2. \n",
            " Escopo Elétrico \n",
            "@@ -740,7 +740,7 @@\n",
            " Quantidade \n",
            " Volkswagen \n",
            " Proposta Técnica  No. 9Q2400427 \n",
            "-Revisão inicial (Rev.01) de 20/12/2024 \n",
            "+Revisão inicial (Rev.01) de 17/01/2025 \n",
            " Página 18 de 30 \n",
            " Modificação Painel A3/1 \n",
            " 1 \n",
            "@@ -793,7 +793,7 @@\n",
            " segundo especificações da NBR 5410. \n",
            " Volkswagen \n",
            " Proposta Técnica  No. 9Q2400427 \n",
            "-Revisão inicial (Rev.01) de 20/12/2024 \n",
            "+Revisão inicial (Rev.01) de 17/01/2025 \n",
            " Página 19 de 30 \n",
            " Os cabos de comando e iluminação possuirão isolação de 300/500V. Os cabos de potência possuirão \n",
            " isolação de 0,6/1kV - EPR 90º. \n",
            "@@ -843,7 +843,7 @@\n",
            "  \n",
            " Volkswagen \n",
            " Proposta Técnica  No. 9Q2400427 \n",
            "-Revisão inicial (Rev.01) de 20/12/2024 \n",
            "+Revisão inicial (Rev.01) de 17/01/2025 \n",
            " Página 20 de 30 \n",
            " 7. \n",
            " EXCLUSÕES E DESVIOS \n",
            "@@ -916,7 +916,7 @@\n",
            " Alimentação elétrica dos painéis e fornecimento de plugins; \n",
            " Volkswagen \n",
            " Proposta Técnica  No. 9Q2400427 \n",
            "-Revisão inicial (Rev.01) de 20/12/2024 \n",
            "+Revisão inicial (Rev.01) de 17/01/2025 \n",
            " Página 21 de 30 \n",
            " XX. \n",
            " Fornecimento de utilidades nas quantidades e condições necessárias (gás, ar comprimido, \n",
            "@@ -939,7 +939,7 @@\n",
            " Qualquer equipamento não descrito nesta proposta; \n",
            " Volkswagen \n",
            " Proposta Técnica  No. 9Q2400427 \n",
            "-Revisão inicial (Rev.01) de 20/12/2024 \n",
            "+Revisão inicial (Rev.01) de 17/01/2025 \n",
            " Página 22 de 30 \n",
            " 8. \n",
            " DOCUMENTAÇÃO TECNICA \n",
            "@@ -985,7 +985,7 @@\n",
            "  \n",
            " Volkswagen \n",
            " Proposta Técnica  No. 9Q2400427 \n",
            "-Revisão inicial (Rev.01) de 20/12/2024 \n",
            "+Revisão inicial (Rev.01) de 17/01/2025 \n",
            " Página 23 de 30 \n",
            " 9. \n",
            " TERMOS E CONDIÇÕES COMERCIAIS  \n",
            "@@ -1051,7 +1051,7 @@\n",
            "  \n",
            " Volkswagen \n",
            " Proposta Técnica  No. 9Q2400427 \n",
            "-Revisão inicial (Rev.01) de 20/12/2024 \n",
            "+Revisão inicial (Rev.01) de 17/01/2025 \n",
            " Página 24 de 30 \n",
            " Validade de preços:  \n",
            " Temos o direito de reajustar os preços da referida proposta \n",
            "@@ -1101,7 +1101,7 @@\n",
            "  \n",
            " Volkswagen \n",
            " Proposta Técnica  No. 9Q2400427 \n",
            "-Revisão inicial (Rev.01) de 20/12/2024 \n",
            "+Revisão inicial (Rev.01) de 17/01/2025 \n",
            " Página 25 de 30 \n",
            " 10. \n",
            " TERMO DE GARANTIA \n",
            "@@ -1156,7 +1156,7 @@\n",
            " responsáveis por danos devidos à negligência, manuseio, manutenção ou aplicações \n",
            " Volkswagen \n",
            " Proposta Técnica  No. 9Q2400427 \n",
            "-Revisão inicial (Rev.01) de 20/12/2024 \n",
            "+Revisão inicial (Rev.01) de 17/01/2025 \n",
            " Página 26 de 30 \n",
            " inadequadas. A Garantia não será efetivamente aplicável nas seguintes condições, desde que \n",
            " devidamente comprovados: \n",
            "@@ -1202,7 +1202,7 @@\n",
            "  \n",
            " Volkswagen \n",
            " Proposta Técnica  No. 9Q2400427 \n",
            "-Revisão inicial (Rev.01) de 20/12/2024 \n",
            "+Revisão inicial (Rev.01) de 17/01/2025 \n",
            " Página 27 de 30 \n",
            " 10. \n",
            " A garantia será automaticamente extinta se constatada pela equipe técnica da Pentanova (in \n",
            "@@ -1241,7 +1241,7 @@\n",
            " implicarão em nenhum custo ao Cliente. \n",
            " Volkswagen \n",
            " Proposta Técnica  No. 9Q2400427 \n",
            "-Revisão inicial (Rev.01) de 20/12/2024 \n",
            "+Revisão inicial (Rev.01) de 17/01/2025 \n",
            " Página 28 de 30 \n",
            " 11. \n",
            " CONDIÇÕES GERAIS DE VENDA, PAGAMENTO E FORNECIMENTO \n",
            "@@ -1386,7 +1386,7 @@\n",
            " normalmente feito à custa e risco do Cliente. \n",
            " Volkswagen \n",
            " Proposta Técnica  No. 9Q2400427 \n",
            "-Revisão inicial (Rev.01) de 20/12/2024 \n",
            "+Revisão inicial (Rev.01) de 17/01/2025 \n",
            " Página 29 de 30 \n",
            " 2. Caso o embarque atrasar por circunstâncias pelas quais não \n",
            " somos responsáveis, o risco passa para o Cliente na data da \n",
            "@@ -1550,7 +1550,7 @@\n",
            " Industrial \n",
            " Volkswagen \n",
            " Proposta Técnica  No. 9Q2400427 \n",
            "-Revisão inicial (Rev.01) de 20/12/2024 \n",
            "+Revisão inicial (Rev.01) de 17/01/2025 \n",
            " Página 30 de 30 \n",
            " Com relação a todos os documentos contratuais, como folhas de \n",
            " projeto, desenhos, cálculos e estimativas de preços, retemos a \n"
          ]
        }
      ]
    }
  ]
}