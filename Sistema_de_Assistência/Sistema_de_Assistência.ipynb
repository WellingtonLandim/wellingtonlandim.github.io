{
  "cells": [
    {
      "cell_type": "markdown",
      "metadata": {
        "id": "view-in-github",
        "colab_type": "text"
      },
      "source": [
        "<a href=\"https://colab.research.google.com/github/WellingtonLandim/wellingtonlandim.github.io/blob/main/Sistema_de_Assist%C3%AAncia/Sistema_de_Assist%C3%AAncia.ipynb\" target=\"_parent\"><img src=\"https://colab.research.google.com/assets/colab-badge.svg\" alt=\"Open In Colab\"/></a>"
      ]
    },
    {
      "cell_type": "markdown",
      "source": [],
      "metadata": {
        "id": "t8lcHO9-23kI"
      }
    },
    {
      "cell_type": "markdown",
      "source": [
        "# Sistema de Assistência\n",
        "O Google Colab não aceita a instalação do pyaudio. Portanto, melhor utilizar uma instalação local do python para rodar o código abaixo"
      ],
      "metadata": {
        "id": "-1I8zg7u26Va"
      }
    },
    {
      "cell_type": "code",
      "execution_count": 1,
      "metadata": {
        "colab": {
          "base_uri": "https://localhost:8080/"
        },
        "collapsed": true,
        "id": "MaZ6eUgN2j9Y",
        "outputId": "8d9f4aa9-07a4-4f48-af57-0e07c00b2df4"
      },
      "outputs": [
        {
          "output_type": "stream",
          "name": "stdout",
          "text": [
            "Collecting SpeechRecognition\n",
            "  Downloading SpeechRecognition-3.14.1-py3-none-any.whl.metadata (31 kB)\n",
            "Requirement already satisfied: typing-extensions in /usr/local/lib/python3.11/dist-packages (from SpeechRecognition) (4.12.2)\n",
            "Downloading SpeechRecognition-3.14.1-py3-none-any.whl (32.9 MB)\n",
            "\u001b[2K   \u001b[90m━━━━━━━━━━━━━━━━━━━━━━━━━━━━━━━━━━━━━━━━\u001b[0m \u001b[32m32.9/32.9 MB\u001b[0m \u001b[31m16.8 MB/s\u001b[0m eta \u001b[36m0:00:00\u001b[0m\n",
            "\u001b[?25hInstalling collected packages: SpeechRecognition\n",
            "Successfully installed SpeechRecognition-3.14.1\n",
            "Collecting pyttsx3\n",
            "  Downloading pyttsx3-2.98-py3-none-any.whl.metadata (3.8 kB)\n",
            "Downloading pyttsx3-2.98-py3-none-any.whl (34 kB)\n",
            "Installing collected packages: pyttsx3\n",
            "Successfully installed pyttsx3-2.98\n",
            "Collecting pyaudio\n",
            "  Downloading PyAudio-0.2.14.tar.gz (47 kB)\n",
            "\u001b[2K     \u001b[90m━━━━━━━━━━━━━━━━━━━━━━━━━━━━━━━━━━━━━━━━\u001b[0m \u001b[32m47.1/47.1 kB\u001b[0m \u001b[31m1.7 MB/s\u001b[0m eta \u001b[36m0:00:00\u001b[0m\n",
            "\u001b[?25h  Installing build dependencies ... \u001b[?25l\u001b[?25hdone\n",
            "  Getting requirements to build wheel ... \u001b[?25l\u001b[?25hdone\n",
            "  Preparing metadata (pyproject.toml) ... \u001b[?25l\u001b[?25hdone\n",
            "Building wheels for collected packages: pyaudio\n",
            "  \u001b[1;31merror\u001b[0m: \u001b[1msubprocess-exited-with-error\u001b[0m\n",
            "  \n",
            "  \u001b[31m×\u001b[0m \u001b[32mBuilding wheel for pyaudio \u001b[0m\u001b[1;32m(\u001b[0m\u001b[32mpyproject.toml\u001b[0m\u001b[1;32m)\u001b[0m did not run successfully.\n",
            "  \u001b[31m│\u001b[0m exit code: \u001b[1;36m1\u001b[0m\n",
            "  \u001b[31m╰─>\u001b[0m See above for output.\n",
            "  \n",
            "  \u001b[1;35mnote\u001b[0m: This error originates from a subprocess, and is likely not a problem with pip.\n",
            "  Building wheel for pyaudio (pyproject.toml) ... \u001b[?25l\u001b[?25herror\n",
            "\u001b[31m  ERROR: Failed building wheel for pyaudio\u001b[0m\u001b[31m\n",
            "\u001b[0mFailed to build pyaudio\n",
            "\u001b[31mERROR: ERROR: Failed to build installable wheels for some pyproject.toml based projects (pyaudio)\u001b[0m\u001b[31m\n",
            "\u001b[0m\u001b[31mERROR: Could not find a version that satisfies the requirement espeak (from versions: none)\u001b[0m\u001b[31m\n",
            "\u001b[0m\u001b[31mERROR: No matching distribution found for espeak\u001b[0m\u001b[31m\n",
            "\u001b[0m"
          ]
        }
      ],
      "source": [
        "!pip install SpeechRecognition\n",
        "!pip install pyttsx3\n",
        "!pip install pyaudio\n",
        "!pip install espeak"
      ]
    },
    {
      "cell_type": "code",
      "execution_count": null,
      "metadata": {
        "id": "CYf2AOld2j9b"
      },
      "outputs": [],
      "source": [
        "import speech_recognition as sr\n",
        "import pyttsx3\n",
        "import webbrowser\n",
        "import smtplib\n",
        "from email.mime.text import MIMEText\n",
        "from email.mime.multipart import MIMEMultipart\n",
        "import pyaudio\n",
        "from IPython import get_ipython\n",
        "from IPython.display import display"
      ]
    },
    {
      "cell_type": "code",
      "execution_count": null,
      "metadata": {
        "id": "xLCCluL12j9c"
      },
      "outputs": [],
      "source": [
        "# Inicializa o reconhecedor de fala e o motor de texto para fala\n",
        "recognizer = sr.Recognizer()\n",
        "engine = pyttsx3.init()"
      ]
    },
    {
      "cell_type": "code",
      "execution_count": null,
      "metadata": {
        "id": "XSHnpqzP2j9d"
      },
      "outputs": [],
      "source": [
        "def falar(texto):\n",
        "    \"\"\"Função para converter texto em fala.\"\"\"\n",
        "    engine.say(texto)\n",
        "    engine.runAndWait()"
      ]
    },
    {
      "cell_type": "code",
      "execution_count": null,
      "metadata": {
        "id": "_FDjrVaa2j9e"
      },
      "outputs": [],
      "source": [
        "def ouvir():\n",
        "    \"\"\"Função para capturar a fala do usuário e converter em texto.\"\"\"\n",
        "    with sr.Microphone() as source:\n",
        "        print(\"Ouvindo...\")\n",
        "        recognizer.adjust_for_ambient_noise(source)\n",
        "        audio = recognizer.listen(source)\n",
        "        try:\n",
        "            texto = recognizer.recognize_google(audio, language=\"pt-BR\")\n",
        "            print(f\"Você disse: {texto}\")\n",
        "            return texto\n",
        "        except sr.UnknownValueError:\n",
        "            falar(\"Descurpe, num entendi o que ocê falô.\")\n",
        "            return None\n",
        "        except sr.RequestError:\n",
        "            falar(\"Desculpe, o serviço de reconhecimento de fala está indisponível.\")\n",
        "            return None"
      ]
    },
    {
      "cell_type": "code",
      "execution_count": null,
      "metadata": {
        "id": "KX8j0BKQ2j9e"
      },
      "outputs": [],
      "source": [
        "def localizar_endereco(endereco):\n",
        "    \"\"\"Função para abrir o navegador e localizar um endereço no Google Maps.\"\"\"\n",
        "    url = f\"https://www.google.com/maps/search/{endereco}\"\n",
        "    webbrowser.open(url)\n",
        "    falar(f\"Tô caçando {endereco} no Gurgô Map! Não Demora naum. Ja vô achá rapidim! Fica logo alí.\")"
      ]
    },
    {
      "cell_type": "code",
      "execution_count": null,
      "metadata": {
        "id": "dqyyGseF2j9f"
      },
      "outputs": [],
      "source": [
        "def localizar_comercio(comercio):\n",
        "    \"\"\"Função para abrir o navegador e localizar um ponto de comércio no Google.\"\"\"\n",
        "    url = f\"https://www.google.com/search?q={comercio}\"\n",
        "    webbrowser.open(url)\n",
        "    falar(f\"Localizando {comercio} no Google.\")"
      ]
    },
    {
      "cell_type": "code",
      "execution_count": null,
      "metadata": {
        "id": "o_jmizl52j9f"
      },
      "outputs": [],
      "source": [
        "def main():\n",
        "    falar(\"Uai sô! Cumé que posso ajudá ocê?\")\n",
        "    while True:\n",
        "        comando = ouvir()\n",
        "        if comando:\n",
        "            comando = comando.lower()\n",
        "            if \"localizar endereço\" in comando:\n",
        "                falar(\"On cê qué ir?\")\n",
        "                endereco = ouvir()\n",
        "                if endereco:\n",
        "                    localizar_endereco(endereco)\n",
        "            elif \"localizar comércio\" in comando:\n",
        "                falar(\"On cê qué ir tomá umas?\")\n",
        "                comercio = ouvir()\n",
        "                if comercio:\n",
        "                    localizar_comercio(comercio)\n",
        "            elif \"sair\" in comando:\n",
        "                falar(\"Já tô saindo, sô! Carece apressá naum! Inté!\")\n",
        "                break\n",
        "            else:\n",
        "                falar(\"Oh! num intendí nadinha cocê falô! Pó repetí, pur favô?\")"
      ]
    },
    {
      "cell_type": "code",
      "execution_count": null,
      "metadata": {
        "id": "AA2Asmnq2j9g",
        "outputId": "35229e82-0d95-484c-9a64-c56b1f268d66"
      },
      "outputs": [
        {
          "name": "stdout",
          "output_type": "stream",
          "text": [
            "Ouvindo...\n",
            "Você disse: localizar endereço\n",
            "Ouvindo...\n",
            "Você disse: Rua Antônio Rodrigues de Almeida\n",
            "Ouvindo...\n",
            "Você disse: sair\n"
          ]
        }
      ],
      "source": [
        "if __name__ == \"__main__\": # Changed _name_ to __name__\n",
        "    main()"
      ]
    }
  ],
  "metadata": {
    "kernelspec": {
      "display_name": "Audio_python",
      "language": "python",
      "name": "python3"
    },
    "language_info": {
      "codemirror_mode": {
        "name": "ipython",
        "version": 3
      },
      "file_extension": ".py",
      "mimetype": "text/x-python",
      "name": "python",
      "nbconvert_exporter": "python",
      "pygments_lexer": "ipython3",
      "version": "3.11.10"
    },
    "colab": {
      "provenance": [],
      "include_colab_link": true
    }
  },
  "nbformat": 4,
  "nbformat_minor": 0
}